{
 "cells": [
  {
   "cell_type": "markdown",
   "metadata": {},
   "source": [
    "# ADK Application Testing\n",
    "\n",
    "This notebook demonstrates how to test an ADK (Agent Development Kit) application.\n",
    "It covers both local and remote testing, both with Agent Engine and Cloud Run.\n",
    "\n",
    "> **Note**: This notebook assumes that the agent files are stored in the `app` folder. If your agent files are located in a different directory, please update all relevant file paths and references accordingly.\n",
    "\n",
    "<img src=\"https://github.com/GoogleCloudPlatform/agent-starter-pack/blob/main/docs/images/adk_logo.png?raw=true\" width=\"400\">\n",
    "\n"
   ]
  },
  {
   "cell_type": "markdown",
   "metadata": {},
   "source": [
    "## Install dependencies"
   ]
  },
  {
   "cell_type": "code",
   "execution_count": null,
   "metadata": {},
   "outputs": [],
   "source": [
    "!pip install google-cloud-aiplatform --upgrade\n",
    "!pip install google-adk --upgrade\n"
   ]
  },
  {
   "cell_type": "markdown",
   "metadata": {},
   "source": [
    "### Import libraries"
   ]
  },
  {
   "cell_type": "code",
   "execution_count": null,
   "metadata": {},
   "outputs": [],
   "source": [
    "import json\n",
    "\n",
    "import requests\n",
    "import vertexai.agent_engines"
   ]
  },
  {
   "cell_type": "markdown",
   "metadata": {},
   "source": [
    "## If you are using Agent Engine\n",
    "See more documentation at [Agent Engine Overview](https://cloud.google.com/vertex-ai/generative-ai/docs/agent-engine/overview)"
   ]
  },
  {
   "cell_type": "markdown",
   "metadata": {},
   "source": [
    "### Remote Testing"
   ]
  },
  {
   "cell_type": "code",
   "execution_count": null,
   "metadata": {},
   "outputs": [],
   "source": [
    "# Replace with your Agent Engine ID\n",
    "AGENT_ENGINE_ID = \"projects/168027251845/locations/us-central1/reasoningEngines/32866601577480192\""
   ]
  },
  {
   "cell_type": "code",
   "execution_count": null,
   "metadata": {},
   "outputs": [],
   "source": [
    "remote_agent_engine = vertexai.agent_engines.get(AGENT_ENGINE_ID)"
   ]
  },
  {
   "cell_type": "code",
   "execution_count": null,
   "metadata": {},
   "outputs": [],
   "source": [
    "for event in remote_agent_engine.stream_query(message=\"whats my latest bill\", user_id=\"test\"):\n",
    "    print(event)"
   ]
  },
  {
   "cell_type": "code",
   "execution_count": null,
   "metadata": {},
   "outputs": [],
   "source": [
    "remote_agent_engine.register_feedback(\n",
    "    feedback={\n",
    "        \"score\": 5,\n",
    "        \"text\": \"Great response!\",\n",
    "        \"invocation_id\": \"test-invocation-123\",\n",
    "        \"user_id\": \"test\",\n",
    "    }\n",
    ")"
   ]
  },
  {
   "cell_type": "markdown",
   "metadata": {},
   "source": [
    "### Local Testing\n",
    "\n",
    "You can import directly the AgentEngineApp class within your environment. \n",
    "To run the agent locally, follow these steps:\n",
    "1. Make sure all required packages are installed in your environment\n",
    "2. The recommended approach is to use the same virtual environment created by the 'uv' tool\n",
    "3. You can set up this environment by running 'make install' from your agent's root directory\n",
    "4. Then select this kernel (.venv folder in your project) in your Jupyter notebook to ensure all dependencies are available"
   ]
  },
  {
   "cell_type": "code",
   "execution_count": 1,
   "metadata": {},
   "outputs": [],
   "source": [
    "# Uncomment the following lines if you're not using the virtual environment created by uv\n",
    "import sys\n",
    "import json\n",
    "sys.path.append(\"../\")"
   ]
  },
  {
   "cell_type": "code",
   "execution_count": 2,
   "metadata": {},
   "outputs": [],
   "source": [
    "from app.agent import root_agent\n",
    "from app.agent_engine_app import AgentEngineApp\n",
    "\n",
    "agent_engine = AgentEngineApp(agent=root_agent)"
   ]
  },
  {
   "cell_type": "code",
   "execution_count": 3,
   "metadata": {},
   "outputs": [
    {
     "name": "stderr",
     "output_type": "stream",
     "text": [
      "C:\\Users\\reube\\AppData\\Local\\Packages\\PythonSoftwareFoundation.Python.3.11_qbz5n2kfra8p0\\LocalCache\\local-packages\\Python311\\site-packages\\vertexai\\preview\\reasoning_engines\\templates\\adk.py:566: UserWarning: [EXPERIMENTAL] InMemoryCredentialService: This feature is experimental and may change or be removed in future versions without notice. It may introduce breaking changes at any time.\n",
      "  self._tmpl_attrs[\"credential_service\"] = InMemoryCredentialService()\n",
      "C:\\Users\\reube\\AppData\\Local\\Packages\\PythonSoftwareFoundation.Python.3.11_qbz5n2kfra8p0\\LocalCache\\local-packages\\Python311\\site-packages\\google\\adk\\auth\\credential_service\\in_memory_credential_service.py:33: UserWarning: [EXPERIMENTAL] BaseCredentialService: This feature is experimental and may change or be removed in future versions without notice. It may introduce breaking changes at any time.\n",
      "  super().__init__()\n",
      "Warning: there are non-text parts in the response: ['thought_signature', 'function_call'], returning concatenated text result from text parts. Check the full candidates.content.parts accessor to get the full model response.\n"
     ]
    },
    {
     "name": "stdout",
     "output_type": "stream",
     "text": [
      "{\n",
      "  \"content\": {\n",
      "    \"parts\": [\n",
      "      {\n",
      "        \"thought_signature\": \"CuQCAR_MhbaT0a36RsDm5_b82-pZd7U_uav1ziotQYRe36oiNeBrf1rC7WNRu8VcIL6odXdwRtclshwGeRZoGFvr_Cpb7lPsUhJgBbZqyurdGuevOExOM5klAfQIvaUVX18roKM0Ku4F8YsaPA8Fvdn-pWTXlBUGf-n1e1F6l1TGxyJrRt_uKVrSHNeCabKMVTTbU_1wiAStgXB6GjJdx_9Dy8AwlAaJsEsXTTEdKa6TohortNuX27UKqsbzsEtvKVXGT_Uj3dzcL0r9yFZdNdR-bk5SC1ghK4C-OcsMjfm5XI73-KkC_wvfTc_zpsDnBP3bHMT-oTlB1zQZhfNn2BLil-my6AORHYbUmXybn0lbiHDGIL9srNClBDGA0jAWT1YHracstnZh7KYvpGxdJICZofnZRe6R0G6gkfTc29VhqLsRLeRg69jIJPnZ39dLesT6ZbAmTqG8DsgbG7_JC5GGRW8y4-U=\",\n",
      "        \"function_call\": {\n",
      "          \"id\": \"adk-2e15c6cf-23d9-4389-8bff-e9c5fd4b1da5\",\n",
      "          \"args\": {\n",
      "            \"agent_name\": \"nearby_intent_agent\"\n",
      "          },\n",
      "          \"name\": \"transfer_to_agent\"\n",
      "        }\n",
      "      }\n",
      "    ],\n",
      "    \"role\": \"model\"\n",
      "  },\n",
      "  \"finish_reason\": \"STOP\",\n",
      "  \"usage_metadata\": {\n",
      "    \"candidates_token_count\": 13,\n",
      "    \"candidates_tokens_details\": [\n",
      "      {\n",
      "        \"modality\": \"TEXT\",\n",
      "        \"token_count\": 13\n",
      "      }\n",
      "    ],\n",
      "    \"prompt_token_count\": 374,\n",
      "    \"prompt_tokens_details\": [\n",
      "      {\n",
      "        \"modality\": \"TEXT\",\n",
      "        \"token_count\": 374\n",
      "      }\n",
      "    ],\n",
      "    \"thoughts_token_count\": 76,\n",
      "    \"total_token_count\": 463,\n",
      "    \"traffic_type\": \"ON_DEMAND\"\n",
      "  },\n",
      "  \"invocation_id\": \"e-aaa475de-66e1-434d-9205-052eb7233e6b\",\n",
      "  \"author\": \"intent_router\",\n",
      "  \"actions\": {\n",
      "    \"state_delta\": {},\n",
      "    \"artifact_delta\": {},\n",
      "    \"requested_auth_configs\": {},\n",
      "    \"requested_tool_confirmations\": {}\n",
      "  },\n",
      "  \"long_running_tool_ids\": [],\n",
      "  \"id\": \"d8f0f330-4f72-4e57-bb4c-7e3e8ec2810b\",\n",
      "  \"timestamp\": 1757589121.536152\n",
      "}\n",
      "{\n",
      "  \"content\": {\n",
      "    \"parts\": [\n",
      "      {\n",
      "        \"function_response\": {\n",
      "          \"id\": \"adk-2e15c6cf-23d9-4389-8bff-e9c5fd4b1da5\",\n",
      "          \"name\": \"transfer_to_agent\",\n",
      "          \"response\": {\n",
      "            \"result\": null\n",
      "          }\n",
      "        }\n",
      "      }\n",
      "    ],\n",
      "    \"role\": \"user\"\n",
      "  },\n",
      "  \"invocation_id\": \"e-aaa475de-66e1-434d-9205-052eb7233e6b\",\n",
      "  \"author\": \"intent_router\",\n",
      "  \"actions\": {\n",
      "    \"state_delta\": {},\n",
      "    \"artifact_delta\": {},\n",
      "    \"transfer_to_agent\": \"nearby_intent_agent\",\n",
      "    \"requested_auth_configs\": {},\n",
      "    \"requested_tool_confirmations\": {}\n",
      "  },\n",
      "  \"id\": \"955b316e-8bca-492b-8be5-9b8cbc11720c\",\n",
      "  \"timestamp\": 1757589125.516504\n",
      "}\n",
      "{\n",
      "  \"content\": {\n",
      "    \"parts\": [\n",
      "      {\n",
      "        \"text\": \"```json\\n{\\n  \\\"anchor_place\\\": \\\"other Starbucks\\\",\\n  \\\"radius_value\\\": null,\\n  \\\"radius_unit\\\": null,\\n  \\\"entity\\\": \\\"cafe's\\\"\\n}\\n```\"\n",
      "      }\n",
      "    ],\n",
      "    \"role\": \"model\"\n",
      "  },\n",
      "  \"finish_reason\": \"STOP\",\n",
      "  \"usage_metadata\": {\n",
      "    \"candidates_token_count\": 47,\n",
      "    \"candidates_tokens_details\": [\n",
      "      {\n",
      "        \"modality\": \"TEXT\",\n",
      "        \"token_count\": 47\n",
      "      }\n",
      "    ],\n",
      "    \"prompt_token_count\": 736,\n",
      "    \"prompt_tokens_details\": [\n",
      "      {\n",
      "        \"modality\": \"TEXT\",\n",
      "        \"token_count\": 736\n",
      "      }\n",
      "    ],\n",
      "    \"thoughts_token_count\": 166,\n",
      "    \"total_token_count\": 949,\n",
      "    \"traffic_type\": \"ON_DEMAND\"\n",
      "  },\n",
      "  \"invocation_id\": \"e-aaa475de-66e1-434d-9205-052eb7233e6b\",\n",
      "  \"author\": \"EntityExtractor\",\n",
      "  \"actions\": {\n",
      "    \"state_delta\": {\n",
      "      \"slot_candidates\": \"```json\\n{\\n  \\\"anchor_place\\\": \\\"other Starbucks\\\",\\n  \\\"radius_value\\\": null,\\n  \\\"radius_unit\\\": null,\\n  \\\"entity\\\": \\\"cafe's\\\"\\n}\\n```\"\n",
      "    },\n",
      "    \"artifact_delta\": {},\n",
      "    \"requested_auth_configs\": {},\n",
      "    \"requested_tool_confirmations\": {}\n",
      "  },\n",
      "  \"id\": \"a72cc4e9-c791-41fd-9743-404db9f3f8d7\",\n",
      "  \"timestamp\": 1757589125.51755\n",
      "}\n",
      "{\n",
      "  \"content\": {\n",
      "    \"parts\": [\n",
      "      {\n",
      "        \"text\": \"```json\\n{\\n  \\\"latitude\\\": null,\\n  \\\"longitude\\\": null\\n}\\n```\"\n",
      "      }\n",
      "    ],\n",
      "    \"role\": \"model\"\n",
      "  },\n",
      "  \"grounding_metadata\": {},\n",
      "  \"finish_reason\": \"STOP\",\n",
      "  \"usage_metadata\": {\n",
      "    \"candidates_token_count\": 21,\n",
      "    \"candidates_tokens_details\": [\n",
      "      {\n",
      "        \"modality\": \"TEXT\",\n",
      "        \"token_count\": 21\n",
      "      }\n",
      "    ],\n",
      "    \"prompt_token_count\": 401,\n",
      "    \"prompt_tokens_details\": [\n",
      "      {\n",
      "        \"modality\": \"TEXT\",\n",
      "        \"token_count\": 401\n",
      "      }\n",
      "    ],\n",
      "    \"thoughts_token_count\": 134,\n",
      "    \"total_token_count\": 556,\n",
      "    \"traffic_type\": \"ON_DEMAND\"\n",
      "  },\n",
      "  \"invocation_id\": \"e-aaa475de-66e1-434d-9205-052eb7233e6b\",\n",
      "  \"author\": \"AnchorPlaceValidator\",\n",
      "  \"actions\": {\n",
      "    \"state_delta\": {\n",
      "      \"anchor_place_coords\": \"```json\\n{\\n  \\\"latitude\\\": null,\\n  \\\"longitude\\\": null\\n}\\n```\"\n",
      "    },\n",
      "    \"artifact_delta\": {},\n",
      "    \"requested_auth_configs\": {},\n",
      "    \"requested_tool_confirmations\": {}\n",
      "  },\n",
      "  \"id\": \"51006b03-43e6-474b-80de-9792950d91c7\",\n",
      "  \"timestamp\": 1757589129.844621\n",
      "}\n",
      "{\n",
      "  \"content\": {\n",
      "    \"parts\": [\n",
      "      {\n",
      "        \"text\": \"I am unable to provide a list of cafes near \\\"other Starbucks\\\" because \\\"other Starbucks\\\" is not a specific, identifiable location. Could you please provide a more precise location (e.g., an address, a city, or a specific Starbucks branch) so I can search for nearby cafes?\"\n",
      "      }\n",
      "    ],\n",
      "    \"role\": \"model\"\n",
      "  },\n",
      "  \"grounding_metadata\": {},\n",
      "  \"finish_reason\": \"STOP\",\n",
      "  \"usage_metadata\": {\n",
      "    \"candidates_token_count\": 60,\n",
      "    \"candidates_tokens_details\": [\n",
      "      {\n",
      "        \"modality\": \"TEXT\",\n",
      "        \"token_count\": 60\n",
      "      }\n",
      "    ],\n",
      "    \"prompt_token_count\": 437,\n",
      "    \"prompt_tokens_details\": [\n",
      "      {\n",
      "        \"modality\": \"TEXT\",\n",
      "        \"token_count\": 437\n",
      "      }\n",
      "    ],\n",
      "    \"thoughts_token_count\": 183,\n",
      "    \"total_token_count\": 680,\n",
      "    \"traffic_type\": \"ON_DEMAND\"\n",
      "  },\n",
      "  \"invocation_id\": \"e-aaa475de-66e1-434d-9205-052eb7233e6b\",\n",
      "  \"author\": \"AnchorPlaceValidator\",\n",
      "  \"actions\": {\n",
      "    \"state_delta\": {\n",
      "      \"entity_coords\": \"I am unable to provide a list of cafes near \\\"other Starbucks\\\" because \\\"other Starbucks\\\" is not a specific, identifiable location. Could you please provide a more precise location (e.g., an address, a city, or a specific Starbucks branch) so I can search for nearby cafes?\"\n",
      "    },\n",
      "    \"artifact_delta\": {},\n",
      "    \"requested_auth_configs\": {},\n",
      "    \"requested_tool_confirmations\": {}\n",
      "  },\n",
      "  \"id\": \"26a03c19-b6b3-4652-a331-1cb3e963f5c0\",\n",
      "  \"timestamp\": 1757589133.909254\n",
      "}\n"
     ]
    }
   ],
   "source": [
    "for event in agent_engine.stream_query(message=\"Give me the cafe's near other starbucks\", user_id=\"test\"):\n",
    "    print(json.dumps(event, indent=2))"
   ]
  },
  {
   "cell_type": "markdown",
   "metadata": {},
   "source": [
    "## If you are using Cloud Run"
   ]
  },
  {
   "cell_type": "markdown",
   "metadata": {},
   "source": [
    "#### Remote Testing\n",
    "\n",
    "For more information about authenticating HTTPS requests to Cloud Run services, see:\n",
    "[Cloud Run Authentication Documentation](https://cloud.google.com/run/docs/triggering/https-request)\n",
    "\n",
    "Remote testing involves using a deployed service URL instead of localhost.\n",
    "\n",
    "Authentication is handled using GCP identity tokens instead of local credentials."
   ]
  },
  {
   "cell_type": "code",
   "execution_count": null,
   "metadata": {},
   "outputs": [],
   "source": [
    "ID_TOKEN = get_ipython().getoutput(\"gcloud auth print-identity-token -q\")[0]"
   ]
  },
  {
   "cell_type": "code",
   "execution_count": null,
   "metadata": {},
   "outputs": [],
   "source": [
    "SERVICE_URL = \"YOUR_SERVICE_URL_HERE\"  # Replace with your Cloud Run service URL"
   ]
  },
  {
   "cell_type": "markdown",
   "metadata": {},
   "source": [
    "You'll need to first create a Session"
   ]
  },
  {
   "cell_type": "code",
   "execution_count": null,
   "metadata": {},
   "outputs": [],
   "source": [
    "user_id = \"test_user_123\"\n",
    "session_data = {\"state\": {\"preferred_language\": \"English\", \"visit_count\": 1}}\n",
    "\n",
    "session_url = f\"{SERVICE_URL}/apps/app/users/{user_id}/sessions\"\n",
    "headers = {\"Content-Type\": \"application/json\", \"Authorization\": f\"Bearer {ID_TOKEN}\"}\n",
    "\n",
    "session_response = requests.post(session_url, headers=headers, json=session_data)\n",
    "print(f\"Session creation status code: {session_response.status_code}\")\n",
    "print(f\"Session creation response: {session_response.json()}\")\n",
    "session_id = session_response.json()[\"id\"]"
   ]
  },
  {
   "cell_type": "markdown",
   "metadata": {},
   "source": [
    "Then you will be able to send a message"
   ]
  },
  {
   "cell_type": "code",
   "execution_count": null,
   "metadata": {},
   "outputs": [],
   "source": [
    "message_data = {\n",
    "    \"app_name\": \"app\",\n",
    "    \"user_id\": user_id,\n",
    "    \"session_id\": session_id,\n",
    "    \"new_message\": {\"role\": \"user\", \"parts\": [{\"text\": \"Hello! Weather in New york?\"}]},\n",
    "    \"streaming\": True,\n",
    "}\n",
    "\n",
    "message_url = f\"{SERVICE_URL}/run_sse\"\n",
    "message_response = requests.post(\n",
    "    message_url, headers=headers, json=message_data, stream=True\n",
    ")\n",
    "\n",
    "print(f\"Message send status code: {message_response.status_code}\")\n",
    "\n",
    "# Print streamed response\n",
    "for line in message_response.iter_lines():\n",
    "    if line:\n",
    "        line_str = line.decode(\"utf-8\")\n",
    "        if line_str.startswith(\"data: \"):\n",
    "            event_json = line_str[6:]\n",
    "            event = json.loads(event_json)\n",
    "            print(f\"Received event: {event}\")"
   ]
  },
  {
   "cell_type": "markdown",
   "metadata": {},
   "source": [
    "### Local Testing\n",
    "\n",
    "> You can run the application locally via the `make local-backend` command."
   ]
  },
  {
   "cell_type": "markdown",
   "metadata": {},
   "source": [
    "#### Create a session\n",
    " Create a new session with user preferences and state information\n"
   ]
  },
  {
   "cell_type": "code",
   "execution_count": null,
   "metadata": {},
   "outputs": [],
   "source": [
    "user_id = \"test_user_123\"\n",
    "session_data = {\"state\": {\"preferred_language\": \"English\", \"visit_count\": 1}}\n",
    "\n",
    "session_url = f\"http://127.0.0.1:8000/apps/app/users/{user_id}/sessions\"\n",
    "headers = {\"Content-Type\": \"application/json\"}\n",
    "\n",
    "session_response = requests.post(session_url, headers=headers, json=session_data)\n",
    "print(f\"Session creation status code: {session_response.status_code}\")\n",
    "print(f\"Session creation response: {session_response.json()}\")\n",
    "session_id = session_response.json()[\"id\"]"
   ]
  },
  {
   "cell_type": "markdown",
   "metadata": {},
   "source": [
    "#### Send a message\n",
    "Send a message to the backend service and receive a streaming response\n"
   ]
  },
  {
   "cell_type": "code",
   "execution_count": null,
   "metadata": {},
   "outputs": [],
   "source": [
    "message_data = {\n",
    "    \"app_name\": \"app\",\n",
    "    \"user_id\": user_id,\n",
    "    \"session_id\": session_id,\n",
    "    \"new_message\": {\"role\": \"user\", \"parts\": [{\"text\": \"Hello! Weather in New york?\"}]},\n",
    "    \"streaming\": True,\n",
    "}\n",
    "\n",
    "message_url = \"http://127.0.0.1:8000/run_sse\"\n",
    "message_response = requests.post(\n",
    "    message_url, headers=headers, json=message_data, stream=True\n",
    ")\n",
    "\n",
    "print(f\"Message send status code: {message_response.status_code}\")\n",
    "\n",
    "# Print streamed response\n",
    "for line in message_response.iter_lines():\n",
    "    if line:\n",
    "        line_str = line.decode(\"utf-8\")\n",
    "        if line_str.startswith(\"data: \"):\n",
    "            event_json = line_str[6:]\n",
    "            event = json.loads(event_json)\n",
    "            print(f\"Received event: {event}\")"
   ]
  }
 ],
 "metadata": {
  "kernelspec": {
   "display_name": "Python 3",
   "language": "python",
   "name": "python3"
  },
  "language_info": {
   "codemirror_mode": {
    "name": "ipython",
    "version": 3
   },
   "file_extension": ".py",
   "mimetype": "text/x-python",
   "name": "python",
   "nbconvert_exporter": "python",
   "pygments_lexer": "ipython3",
   "version": "3.11.9"
  }
 },
 "nbformat": 4,
 "nbformat_minor": 2
}
