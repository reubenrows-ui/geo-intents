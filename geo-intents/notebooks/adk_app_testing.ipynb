{
 "cells": [
  {
   "cell_type": "markdown",
   "metadata": {},
   "source": [
    "# ADK Application Testing\n",
    "\n",
    "This notebook demonstrates how to test an ADK (Agent Development Kit) application.\n",
    "It covers both local and remote testing, both with Agent Engine and Cloud Run.\n",
    "\n",
    "> **Note**: This notebook assumes that the agent files are stored in the `app` folder. If your agent files are located in a different directory, please update all relevant file paths and references accordingly.\n",
    "\n",
    "<img src=\"https://github.com/GoogleCloudPlatform/agent-starter-pack/blob/main/docs/images/adk_logo.png?raw=true\" width=\"400\">\n",
    "\n"
   ]
  },
  {
   "cell_type": "markdown",
   "metadata": {},
   "source": [
    "## Install dependencies"
   ]
  },
  {
   "cell_type": "code",
   "execution_count": null,
   "metadata": {},
   "outputs": [],
   "source": [
    "!pip install google-cloud-aiplatform --upgrade"
   ]
  },
  {
   "cell_type": "markdown",
   "metadata": {},
   "source": [
    "### Import libraries"
   ]
  },
  {
   "cell_type": "code",
   "execution_count": 1,
   "metadata": {},
   "outputs": [],
   "source": [
    "import json\n",
    "\n",
    "import requests\n",
    "import vertexai.agent_engines"
   ]
  },
  {
   "cell_type": "markdown",
   "metadata": {},
   "source": [
    "## If you are using Agent Engine\n",
    "See more documentation at [Agent Engine Overview](https://cloud.google.com/vertex-ai/generative-ai/docs/agent-engine/overview)"
   ]
  },
  {
   "cell_type": "markdown",
   "metadata": {},
   "source": [
    "### Remote Testing"
   ]
  },
  {
   "cell_type": "code",
   "execution_count": 2,
   "metadata": {},
   "outputs": [],
   "source": [
    "# Replace with your Agent Engine ID\n",
    "AGENT_ENGINE_ID = \"projects/168027251845/locations/us-central1/reasoningEngines/968489424163700736\""
   ]
  },
  {
   "cell_type": "code",
   "execution_count": 3,
   "metadata": {},
   "outputs": [],
   "source": [
    "remote_agent_engine = vertexai.agent_engines.get(AGENT_ENGINE_ID)"
   ]
  },
  {
   "cell_type": "code",
   "execution_count": 4,
   "metadata": {},
   "outputs": [
    {
     "name": "stdout",
     "output_type": "stream",
     "text": [
      "{'content': {'parts': [{'text': 'Hello! How can I help you today?\\n'}], 'role': 'model'}, 'usage_metadata': {'candidates_token_count': 10, 'candidates_tokens_details': [{'modality': 'TEXT', 'token_count': 10}], 'prompt_token_count': 147, 'prompt_tokens_details': [{'modality': 'TEXT', 'token_count': 147}], 'total_token_count': 157, 'traffic_type': 'ON_DEMAND'}, 'invocation_id': 'e-61e7a278-dfbd-43cd-a8c4-4d3cff21e177', 'author': 'root_agent', 'actions': {'state_delta': {}, 'artifact_delta': {}, 'requested_auth_configs': {}}, 'id': '79bba3c3-1917-425f-923d-6c6bb9f6aa40', 'timestamp': 1757215325.879098}\n"
     ]
    }
   ],
   "source": [
    "for event in remote_agent_engine.stream_query(message=\"hi!\", user_id=\"test\"):\n",
    "    print(event)"
   ]
  },
  {
   "cell_type": "code",
   "execution_count": 5,
   "metadata": {},
   "outputs": [],
   "source": [
    "remote_agent_engine.register_feedback(\n",
    "    feedback={\n",
    "        \"score\": 5,\n",
    "        \"text\": \"Great response!\",\n",
    "        \"invocation_id\": \"test-invocation-123\",\n",
    "        \"user_id\": \"test\",\n",
    "    }\n",
    ")"
   ]
  },
  {
   "cell_type": "markdown",
   "metadata": {},
   "source": [
    "### Local Testing\n",
    "\n",
    "You can import directly the AgentEngineApp class within your environment. \n",
    "To run the agent locally, follow these steps:\n",
    "1. Make sure all required packages are installed in your environment\n",
    "2. The recommended approach is to use the same virtual environment created by the 'uv' tool\n",
    "3. You can set up this environment by running 'make install' from your agent's root directory\n",
    "4. Then select this kernel (.venv folder in your project) in your Jupyter notebook to ensure all dependencies are available"
   ]
  },
  {
   "cell_type": "code",
   "execution_count": 1,
   "metadata": {},
   "outputs": [],
   "source": [
    "# Uncomment the following lines if you're not using the virtual environment created by uv\n",
    "import sys\n",
    "import json\n",
    "sys.path.append(\"../\")"
   ]
  },
  {
   "cell_type": "code",
   "execution_count": 2,
   "metadata": {},
   "outputs": [],
   "source": [
    "from app.agent import root_agent\n",
    "from app.agent_engine_app import AgentEngineApp\n",
    "\n",
    "agent_engine = AgentEngineApp(agent=root_agent)"
   ]
  },
  {
   "cell_type": "code",
   "execution_count": 3,
   "metadata": {},
   "outputs": [
    {
     "name": "stderr",
     "output_type": "stream",
     "text": [
      "Warning: there are non-text parts in the response: ['thought_signature', 'function_call'], returning concatenated text result from text parts. Check the full candidates.content.parts accessor to get the full model response.\n"
     ]
    },
    {
     "name": "stdout",
     "output_type": "stream",
     "text": [
      "{\n",
      "  \"content\": {\n",
      "    \"parts\": [\n",
      "      {\n",
      "        \"thought_signature\": \"CqcDAcu98PB9pDYUtw-RV_y2DzURqdDxt95LbDHH9AB5Y5RN6Ii8m12at0-wylsdc-HkrYUx5QS98s5tYmm-46FYkbW-1n_s23wyFc6r0WWSx4ul9pp75lKskh5pEiTrSGcb2eLkYeuojfSj0fzI9lrNgFz1UL7nQQXcS1KiwBIV9ydTf-TB7luxrldGQM_Wt3EFUOgMB3H7QNNAiPbnp-1aQzyrU3j85YVb1HTBFjBOyk2qV0698F8f7jqOD265pbqyVX1zEqdag6pNPePBHDj1Eu8fN8C3HPDnp6cBw-E4li4kD8Wj-3Uc7BLAubn2NCSfE4Dx-iuJKzc02HuKZz5TRhPo3rmoTwInEJFO_MTI08WHdYVm7fQa5nQjWzqUfwkq6LEN-bFmG7TttSEAcCYEAIPNhUkwLRumP5I9NWUJ9ERdOjn4ul7LtDqw3cPFJY4MgkeWAhXXEZQ2VHKCpG2qTvKtTRuk9vm1w0cstzA-CxZVjFk7pQqKwo1cblNok5bE_mcOa2zUjEgYfmqFoyNY9OVtX-1q2H0-pI2JMv__UxwqqoSlUDVP\",\n",
      "        \"function_call\": {\n",
      "          \"id\": \"adk-10be61c4-ffe8-48db-901c-97da5bb6b988\",\n",
      "          \"args\": {\n",
      "            \"user_query\": \"what are the nearby starbucks stores to my toronto stores?\"\n",
      "          },\n",
      "          \"name\": \"route_intent\"\n",
      "        }\n",
      "      }\n",
      "    ],\n",
      "    \"role\": \"model\"\n",
      "  },\n",
      "  \"usage_metadata\": {\n",
      "    \"candidates_token_count\": 17,\n",
      "    \"candidates_tokens_details\": [\n",
      "      {\n",
      "        \"modality\": \"TEXT\",\n",
      "        \"token_count\": 17\n",
      "      }\n",
      "    ],\n",
      "    \"prompt_token_count\": 177,\n",
      "    \"prompt_tokens_details\": [\n",
      "      {\n",
      "        \"modality\": \"TEXT\",\n",
      "        \"token_count\": 177\n",
      "      }\n",
      "    ],\n",
      "    \"thoughts_token_count\": 86,\n",
      "    \"total_token_count\": 280,\n",
      "    \"traffic_type\": \"ON_DEMAND\"\n",
      "  },\n",
      "  \"invocation_id\": \"e-578e6cdd-9bbe-48cb-90a5-fe23f14a0d65\",\n",
      "  \"author\": \"root_agent\",\n",
      "  \"actions\": {\n",
      "    \"state_delta\": {},\n",
      "    \"artifact_delta\": {},\n",
      "    \"requested_auth_configs\": {}\n",
      "  },\n",
      "  \"long_running_tool_ids\": [],\n",
      "  \"id\": \"547b5d13-0b11-4e22-87a8-0973f67a3a45\",\n",
      "  \"timestamp\": 1757266546.954575\n",
      "}\n",
      "{\n",
      "  \"content\": {\n",
      "    \"parts\": [\n",
      "      {\n",
      "        \"function_response\": {\n",
      "          \"id\": \"adk-10be61c4-ffe8-48db-901c-97da5bb6b988\",\n",
      "          \"name\": \"route_intent\",\n",
      "          \"response\": {\n",
      "            \"intent\": \"nearby\",\n",
      "            \"query\": \"what are the nearby starbucks stores to my toronto stores?\",\n",
      "            \"slots\": {\n",
      "              \"anchor_place\": \"my toronto stores\",\n",
      "              \"radius_value\": 0,\n",
      "              \"radius_unit\": \"km\",\n",
      "              \"entity\": \"starbucks\"\n",
      "            }\n",
      "          }\n",
      "        }\n",
      "      }\n",
      "    ],\n",
      "    \"role\": \"user\"\n",
      "  },\n",
      "  \"invocation_id\": \"e-578e6cdd-9bbe-48cb-90a5-fe23f14a0d65\",\n",
      "  \"author\": \"root_agent\",\n",
      "  \"actions\": {\n",
      "    \"state_delta\": {},\n",
      "    \"artifact_delta\": {},\n",
      "    \"requested_auth_configs\": {}\n",
      "  },\n",
      "  \"id\": \"304dd5fc-6648-4ce4-818d-8559108a8462\",\n",
      "  \"timestamp\": 1757266559.088981\n",
      "}\n",
      "{\n",
      "  \"content\": {\n",
      "    \"parts\": [\n",
      "      {\n",
      "        \"text\": \"\"\n",
      "      }\n",
      "    ],\n",
      "    \"role\": \"model\"\n",
      "  },\n",
      "  \"usage_metadata\": {\n",
      "    \"prompt_token_count\": 229,\n",
      "    \"prompt_tokens_details\": [\n",
      "      {\n",
      "        \"modality\": \"TEXT\",\n",
      "        \"token_count\": 229\n",
      "      }\n",
      "    ],\n",
      "    \"total_token_count\": 229,\n",
      "    \"traffic_type\": \"ON_DEMAND\"\n",
      "  },\n",
      "  \"invocation_id\": \"e-578e6cdd-9bbe-48cb-90a5-fe23f14a0d65\",\n",
      "  \"author\": \"root_agent\",\n",
      "  \"actions\": {\n",
      "    \"state_delta\": {},\n",
      "    \"artifact_delta\": {},\n",
      "    \"requested_auth_configs\": {}\n",
      "  },\n",
      "  \"id\": \"423f2581-f6e6-4130-ae4a-2b244882e3d8\",\n",
      "  \"timestamp\": 1757266559.090995\n",
      "}\n"
     ]
    }
   ],
   "source": [
    "for event in agent_engine.stream_query(message=\"what are the nearby starbucks stores to my toronto stores?\", user_id=\"test\"):\n",
    "    print(json.dumps(event, indent=2))"
   ]
  },
  {
   "cell_type": "markdown",
   "metadata": {},
   "source": [
    "## If you are using Cloud Run"
   ]
  },
  {
   "cell_type": "markdown",
   "metadata": {},
   "source": [
    "#### Remote Testing\n",
    "\n",
    "For more information about authenticating HTTPS requests to Cloud Run services, see:\n",
    "[Cloud Run Authentication Documentation](https://cloud.google.com/run/docs/triggering/https-request)\n",
    "\n",
    "Remote testing involves using a deployed service URL instead of localhost.\n",
    "\n",
    "Authentication is handled using GCP identity tokens instead of local credentials."
   ]
  },
  {
   "cell_type": "code",
   "execution_count": 20,
   "metadata": {},
   "outputs": [],
   "source": [
    "ID_TOKEN = get_ipython().getoutput(\"gcloud auth print-identity-token -q\")[0]"
   ]
  },
  {
   "cell_type": "code",
   "execution_count": null,
   "metadata": {},
   "outputs": [],
   "source": [
    "SERVICE_URL = \"YOUR_SERVICE_URL_HERE\"  # Replace with your Cloud Run service URL"
   ]
  },
  {
   "cell_type": "markdown",
   "metadata": {},
   "source": [
    "You'll need to first create a Session"
   ]
  },
  {
   "cell_type": "code",
   "execution_count": null,
   "metadata": {},
   "outputs": [],
   "source": [
    "user_id = \"test_user_123\"\n",
    "session_data = {\"state\": {\"preferred_language\": \"English\", \"visit_count\": 1}}\n",
    "\n",
    "session_url = f\"{SERVICE_URL}/apps/app/users/{user_id}/sessions\"\n",
    "headers = {\"Content-Type\": \"application/json\", \"Authorization\": f\"Bearer {ID_TOKEN}\"}\n",
    "\n",
    "session_response = requests.post(session_url, headers=headers, json=session_data)\n",
    "print(f\"Session creation status code: {session_response.status_code}\")\n",
    "print(f\"Session creation response: {session_response.json()}\")\n",
    "session_id = session_response.json()[\"id\"]"
   ]
  },
  {
   "cell_type": "markdown",
   "metadata": {},
   "source": [
    "Then you will be able to send a message"
   ]
  },
  {
   "cell_type": "code",
   "execution_count": null,
   "metadata": {},
   "outputs": [],
   "source": [
    "message_data = {\n",
    "    \"app_name\": \"app\",\n",
    "    \"user_id\": user_id,\n",
    "    \"session_id\": session_id,\n",
    "    \"new_message\": {\"role\": \"user\", \"parts\": [{\"text\": \"Hello! Weather in New york?\"}]},\n",
    "    \"streaming\": True,\n",
    "}\n",
    "\n",
    "message_url = f\"{SERVICE_URL}/run_sse\"\n",
    "message_response = requests.post(\n",
    "    message_url, headers=headers, json=message_data, stream=True\n",
    ")\n",
    "\n",
    "print(f\"Message send status code: {message_response.status_code}\")\n",
    "\n",
    "# Print streamed response\n",
    "for line in message_response.iter_lines():\n",
    "    if line:\n",
    "        line_str = line.decode(\"utf-8\")\n",
    "        if line_str.startswith(\"data: \"):\n",
    "            event_json = line_str[6:]\n",
    "            event = json.loads(event_json)\n",
    "            print(f\"Received event: {event}\")"
   ]
  },
  {
   "cell_type": "markdown",
   "metadata": {},
   "source": [
    "### Local Testing\n",
    "\n",
    "> You can run the application locally via the `make local-backend` command."
   ]
  },
  {
   "cell_type": "markdown",
   "metadata": {},
   "source": [
    "#### Create a session\n",
    " Create a new session with user preferences and state information\n"
   ]
  },
  {
   "cell_type": "code",
   "execution_count": null,
   "metadata": {},
   "outputs": [],
   "source": [
    "user_id = \"test_user_123\"\n",
    "session_data = {\"state\": {\"preferred_language\": \"English\", \"visit_count\": 1}}\n",
    "\n",
    "session_url = f\"http://127.0.0.1:8000/apps/app/users/{user_id}/sessions\"\n",
    "headers = {\"Content-Type\": \"application/json\"}\n",
    "\n",
    "session_response = requests.post(session_url, headers=headers, json=session_data)\n",
    "print(f\"Session creation status code: {session_response.status_code}\")\n",
    "print(f\"Session creation response: {session_response.json()}\")\n",
    "session_id = session_response.json()[\"id\"]"
   ]
  },
  {
   "cell_type": "markdown",
   "metadata": {},
   "source": [
    "#### Send a message\n",
    "Send a message to the backend service and receive a streaming response\n"
   ]
  },
  {
   "cell_type": "code",
   "execution_count": null,
   "metadata": {},
   "outputs": [],
   "source": [
    "message_data = {\n",
    "    \"app_name\": \"app\",\n",
    "    \"user_id\": user_id,\n",
    "    \"session_id\": session_id,\n",
    "    \"new_message\": {\"role\": \"user\", \"parts\": [{\"text\": \"Hello! Weather in New york?\"}]},\n",
    "    \"streaming\": True,\n",
    "}\n",
    "\n",
    "message_url = \"http://127.0.0.1:8000/run_sse\"\n",
    "message_response = requests.post(\n",
    "    message_url, headers=headers, json=message_data, stream=True\n",
    ")\n",
    "\n",
    "print(f\"Message send status code: {message_response.status_code}\")\n",
    "\n",
    "# Print streamed response\n",
    "for line in message_response.iter_lines():\n",
    "    if line:\n",
    "        line_str = line.decode(\"utf-8\")\n",
    "        if line_str.startswith(\"data: \"):\n",
    "            event_json = line_str[6:]\n",
    "            event = json.loads(event_json)\n",
    "            print(f\"Received event: {event}\")"
   ]
  }
 ],
 "metadata": {
  "kernelspec": {
   "display_name": "Python 3",
   "language": "python",
   "name": "python3"
  },
  "language_info": {
   "codemirror_mode": {
    "name": "ipython",
    "version": 3
   },
   "file_extension": ".py",
   "mimetype": "text/x-python",
   "name": "python",
   "nbconvert_exporter": "python",
   "pygments_lexer": "ipython3",
   "version": "3.11.9"
  }
 },
 "nbformat": 4,
 "nbformat_minor": 2
}
