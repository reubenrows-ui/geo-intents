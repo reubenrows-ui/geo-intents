{
 "cells": [
  {
   "cell_type": "code",
   "execution_count": 1,
   "id": "0852a96d",
   "metadata": {},
   "outputs": [
    {
     "name": "stdout",
     "output_type": "stream",
     "text": [
      "Requirement already satisfied: google-cloud-discoveryengine in c:\\users\\reube\\appdata\\local\\packages\\pythonsoftwarefoundation.python.3.11_qbz5n2kfra8p0\\localcache\\local-packages\\python311\\site-packages (0.13.11)\n",
      "Requirement already satisfied: google-api-core!=2.0.*,!=2.1.*,!=2.10.*,!=2.2.*,!=2.3.*,!=2.4.*,!=2.5.*,!=2.6.*,!=2.7.*,!=2.8.*,!=2.9.*,<3.0.0,>=1.34.1 in c:\\users\\reube\\appdata\\local\\packages\\pythonsoftwarefoundation.python.3.11_qbz5n2kfra8p0\\localcache\\local-packages\\python311\\site-packages (from google-api-core[grpc]!=2.0.*,!=2.1.*,!=2.10.*,!=2.2.*,!=2.3.*,!=2.4.*,!=2.5.*,!=2.6.*,!=2.7.*,!=2.8.*,!=2.9.*,<3.0.0,>=1.34.1->google-cloud-discoveryengine) (2.25.1)\n",
      "Requirement already satisfied: google-auth!=2.24.0,!=2.25.0,<3.0.0,>=2.14.1 in c:\\users\\reube\\appdata\\local\\packages\\pythonsoftwarefoundation.python.3.11_qbz5n2kfra8p0\\localcache\\local-packages\\python311\\site-packages (from google-cloud-discoveryengine) (2.40.3)\n",
      "Requirement already satisfied: proto-plus<2.0.0,>=1.22.3 in c:\\users\\reube\\appdata\\local\\packages\\pythonsoftwarefoundation.python.3.11_qbz5n2kfra8p0\\localcache\\local-packages\\python311\\site-packages (from google-cloud-discoveryengine) (1.26.1)\n",
      "Requirement already satisfied: protobuf!=4.21.0,!=4.21.1,!=4.21.2,!=4.21.3,!=4.21.4,!=4.21.5,<7.0.0,>=3.20.2 in c:\\users\\reube\\appdata\\local\\packages\\pythonsoftwarefoundation.python.3.11_qbz5n2kfra8p0\\localcache\\local-packages\\python311\\site-packages (from google-cloud-discoveryengine) (5.29.5)\n",
      "Requirement already satisfied: googleapis-common-protos<2.0.0,>=1.56.2 in c:\\users\\reube\\appdata\\local\\packages\\pythonsoftwarefoundation.python.3.11_qbz5n2kfra8p0\\localcache\\local-packages\\python311\\site-packages (from google-api-core!=2.0.*,!=2.1.*,!=2.10.*,!=2.2.*,!=2.3.*,!=2.4.*,!=2.5.*,!=2.6.*,!=2.7.*,!=2.8.*,!=2.9.*,<3.0.0,>=1.34.1->google-api-core[grpc]!=2.0.*,!=2.1.*,!=2.10.*,!=2.2.*,!=2.3.*,!=2.4.*,!=2.5.*,!=2.6.*,!=2.7.*,!=2.8.*,!=2.9.*,<3.0.0,>=1.34.1->google-cloud-discoveryengine) (1.70.0)\n",
      "Requirement already satisfied: requests<3.0.0,>=2.18.0 in c:\\users\\reube\\appdata\\local\\packages\\pythonsoftwarefoundation.python.3.11_qbz5n2kfra8p0\\localcache\\local-packages\\python311\\site-packages (from google-api-core!=2.0.*,!=2.1.*,!=2.10.*,!=2.2.*,!=2.3.*,!=2.4.*,!=2.5.*,!=2.6.*,!=2.7.*,!=2.8.*,!=2.9.*,<3.0.0,>=1.34.1->google-api-core[grpc]!=2.0.*,!=2.1.*,!=2.10.*,!=2.2.*,!=2.3.*,!=2.4.*,!=2.5.*,!=2.6.*,!=2.7.*,!=2.8.*,!=2.9.*,<3.0.0,>=1.34.1->google-cloud-discoveryengine) (2.32.5)\n",
      "Requirement already satisfied: grpcio<2.0.0,>=1.33.2 in c:\\users\\reube\\appdata\\local\\packages\\pythonsoftwarefoundation.python.3.11_qbz5n2kfra8p0\\localcache\\local-packages\\python311\\site-packages (from google-api-core[grpc]!=2.0.*,!=2.1.*,!=2.10.*,!=2.2.*,!=2.3.*,!=2.4.*,!=2.5.*,!=2.6.*,!=2.7.*,!=2.8.*,!=2.9.*,<3.0.0,>=1.34.1->google-cloud-discoveryengine) (1.74.0)\n",
      "Requirement already satisfied: grpcio-status<2.0.0,>=1.33.2 in c:\\users\\reube\\appdata\\local\\packages\\pythonsoftwarefoundation.python.3.11_qbz5n2kfra8p0\\localcache\\local-packages\\python311\\site-packages (from google-api-core[grpc]!=2.0.*,!=2.1.*,!=2.10.*,!=2.2.*,!=2.3.*,!=2.4.*,!=2.5.*,!=2.6.*,!=2.7.*,!=2.8.*,!=2.9.*,<3.0.0,>=1.34.1->google-cloud-discoveryengine) (1.71.2)\n",
      "Requirement already satisfied: cachetools<6.0,>=2.0.0 in c:\\users\\reube\\appdata\\local\\packages\\pythonsoftwarefoundation.python.3.11_qbz5n2kfra8p0\\localcache\\local-packages\\python311\\site-packages (from google-auth!=2.24.0,!=2.25.0,<3.0.0,>=2.14.1->google-cloud-discoveryengine) (5.5.2)\n",
      "Requirement already satisfied: pyasn1-modules>=0.2.1 in c:\\users\\reube\\appdata\\local\\packages\\pythonsoftwarefoundation.python.3.11_qbz5n2kfra8p0\\localcache\\local-packages\\python311\\site-packages (from google-auth!=2.24.0,!=2.25.0,<3.0.0,>=2.14.1->google-cloud-discoveryengine) (0.4.2)\n",
      "Requirement already satisfied: rsa<5,>=3.1.4 in c:\\users\\reube\\appdata\\local\\packages\\pythonsoftwarefoundation.python.3.11_qbz5n2kfra8p0\\localcache\\local-packages\\python311\\site-packages (from google-auth!=2.24.0,!=2.25.0,<3.0.0,>=2.14.1->google-cloud-discoveryengine) (4.9.1)\n",
      "Requirement already satisfied: pyasn1<0.7.0,>=0.6.1 in c:\\users\\reube\\appdata\\local\\packages\\pythonsoftwarefoundation.python.3.11_qbz5n2kfra8p0\\localcache\\local-packages\\python311\\site-packages (from pyasn1-modules>=0.2.1->google-auth!=2.24.0,!=2.25.0,<3.0.0,>=2.14.1->google-cloud-discoveryengine) (0.6.1)\n",
      "Requirement already satisfied: charset_normalizer<4,>=2 in c:\\users\\reube\\appdata\\local\\packages\\pythonsoftwarefoundation.python.3.11_qbz5n2kfra8p0\\localcache\\local-packages\\python311\\site-packages (from requests<3.0.0,>=2.18.0->google-api-core!=2.0.*,!=2.1.*,!=2.10.*,!=2.2.*,!=2.3.*,!=2.4.*,!=2.5.*,!=2.6.*,!=2.7.*,!=2.8.*,!=2.9.*,<3.0.0,>=1.34.1->google-api-core[grpc]!=2.0.*,!=2.1.*,!=2.10.*,!=2.2.*,!=2.3.*,!=2.4.*,!=2.5.*,!=2.6.*,!=2.7.*,!=2.8.*,!=2.9.*,<3.0.0,>=1.34.1->google-cloud-discoveryengine) (3.4.3)\n",
      "Requirement already satisfied: idna<4,>=2.5 in c:\\users\\reube\\appdata\\local\\packages\\pythonsoftwarefoundation.python.3.11_qbz5n2kfra8p0\\localcache\\local-packages\\python311\\site-packages (from requests<3.0.0,>=2.18.0->google-api-core!=2.0.*,!=2.1.*,!=2.10.*,!=2.2.*,!=2.3.*,!=2.4.*,!=2.5.*,!=2.6.*,!=2.7.*,!=2.8.*,!=2.9.*,<3.0.0,>=1.34.1->google-api-core[grpc]!=2.0.*,!=2.1.*,!=2.10.*,!=2.2.*,!=2.3.*,!=2.4.*,!=2.5.*,!=2.6.*,!=2.7.*,!=2.8.*,!=2.9.*,<3.0.0,>=1.34.1->google-cloud-discoveryengine) (3.10)\n",
      "Requirement already satisfied: urllib3<3,>=1.21.1 in c:\\users\\reube\\appdata\\local\\packages\\pythonsoftwarefoundation.python.3.11_qbz5n2kfra8p0\\localcache\\local-packages\\python311\\site-packages (from requests<3.0.0,>=2.18.0->google-api-core!=2.0.*,!=2.1.*,!=2.10.*,!=2.2.*,!=2.3.*,!=2.4.*,!=2.5.*,!=2.6.*,!=2.7.*,!=2.8.*,!=2.9.*,<3.0.0,>=1.34.1->google-api-core[grpc]!=2.0.*,!=2.1.*,!=2.10.*,!=2.2.*,!=2.3.*,!=2.4.*,!=2.5.*,!=2.6.*,!=2.7.*,!=2.8.*,!=2.9.*,<3.0.0,>=1.34.1->google-cloud-discoveryengine) (2.5.0)\n",
      "Requirement already satisfied: certifi>=2017.4.17 in c:\\users\\reube\\appdata\\local\\packages\\pythonsoftwarefoundation.python.3.11_qbz5n2kfra8p0\\localcache\\local-packages\\python311\\site-packages (from requests<3.0.0,>=2.18.0->google-api-core!=2.0.*,!=2.1.*,!=2.10.*,!=2.2.*,!=2.3.*,!=2.4.*,!=2.5.*,!=2.6.*,!=2.7.*,!=2.8.*,!=2.9.*,<3.0.0,>=1.34.1->google-api-core[grpc]!=2.0.*,!=2.1.*,!=2.10.*,!=2.2.*,!=2.3.*,!=2.4.*,!=2.5.*,!=2.6.*,!=2.7.*,!=2.8.*,!=2.9.*,<3.0.0,>=1.34.1->google-cloud-discoveryengine) (2025.8.3)\n"
     ]
    },
    {
     "name": "stderr",
     "output_type": "stream",
     "text": [
      "\n",
      "[notice] A new release of pip is available: 24.0 -> 25.2\n",
      "[notice] To update, run: C:\\Users\\reube\\AppData\\Local\\Microsoft\\WindowsApps\\PythonSoftwareFoundation.Python.3.11_qbz5n2kfra8p0\\python.exe -m pip install --upgrade pip\n"
     ]
    }
   ],
   "source": [
    "!pip install --upgrade google-cloud-discoveryengine"
   ]
  },
  {
   "cell_type": "code",
   "execution_count": 1,
   "id": "f37356b0",
   "metadata": {},
   "outputs": [],
   "source": [
    "import sys\n",
    "sys.path.append(\"../\")"
   ]
  },
  {
   "cell_type": "code",
   "execution_count": 2,
   "id": "10c9fa3f",
   "metadata": {},
   "outputs": [],
   "source": [
    "from google.cloud import discoveryengine_v1 as discoveryengine\n",
    "\n",
    "from app.agents.utils.datastore_manager import *\n",
    "from app.agents.utils.bigquery_manager import *\n",
    "from app.agents.utils.engine_manager import *\n",
    "from app.agents.utils.discovery_search import *\n"
   ]
  },
  {
   "cell_type": "code",
   "execution_count": 3,
   "id": "a61d403a",
   "metadata": {},
   "outputs": [],
   "source": [
    "PROJECT = 'kaggle-hackathon-471317'\n",
    "\n",
    "LOCATION_BQ=\"US\"\n",
    "DS = \"geo_intents\"\n",
    "TBL = \"poi-locations-ds\"\n",
    "\n",
    "LOCATION_DS=\"global\"\n",
    "COLL = \"default_collection\"\n",
    "DS_ID = \"poi-locations-ds\"\n",
    "DS_DISPLAY_NAME = \"POI Locations Datastore\"\n",
    "ENGINE_ID = \"geo-intents-engine\"\n",
    "ENGINE_DISPLAY_NAME = \"Geo Intents Engine\""
   ]
  },
  {
   "cell_type": "code",
   "execution_count": 6,
   "id": "53c79e07",
   "metadata": {},
   "outputs": [
    {
     "ename": "AlreadyExists",
     "evalue": "409 DataStore projects/168027251845/locations/global/collections/default_collection/dataStores/poi-locations-ds already exists.",
     "output_type": "error",
     "traceback": [
      "\u001b[31m---------------------------------------------------------------------------\u001b[39m",
      "\u001b[31m_InactiveRpcError\u001b[39m                         Traceback (most recent call last)",
      "\u001b[36mFile \u001b[39m\u001b[32m~\\AppData\\Local\\Packages\\PythonSoftwareFoundation.Python.3.11_qbz5n2kfra8p0\\LocalCache\\local-packages\\Python311\\site-packages\\google\\api_core\\grpc_helpers.py:76\u001b[39m, in \u001b[36m_wrap_unary_errors.<locals>.error_remapped_callable\u001b[39m\u001b[34m(*args, **kwargs)\u001b[39m\n\u001b[32m     75\u001b[39m \u001b[38;5;28;01mtry\u001b[39;00m:\n\u001b[32m---> \u001b[39m\u001b[32m76\u001b[39m     \u001b[38;5;28;01mreturn\u001b[39;00m \u001b[43mcallable_\u001b[49m\u001b[43m(\u001b[49m\u001b[43m*\u001b[49m\u001b[43margs\u001b[49m\u001b[43m,\u001b[49m\u001b[43m \u001b[49m\u001b[43m*\u001b[49m\u001b[43m*\u001b[49m\u001b[43mkwargs\u001b[49m\u001b[43m)\u001b[49m\n\u001b[32m     77\u001b[39m \u001b[38;5;28;01mexcept\u001b[39;00m grpc.RpcError \u001b[38;5;28;01mas\u001b[39;00m exc:\n",
      "\u001b[36mFile \u001b[39m\u001b[32m~\\AppData\\Local\\Packages\\PythonSoftwareFoundation.Python.3.11_qbz5n2kfra8p0\\LocalCache\\local-packages\\Python311\\site-packages\\grpc\\_interceptor.py:277\u001b[39m, in \u001b[36m_UnaryUnaryMultiCallable.__call__\u001b[39m\u001b[34m(self, request, timeout, metadata, credentials, wait_for_ready, compression)\u001b[39m\n\u001b[32m    268\u001b[39m \u001b[38;5;28;01mdef\u001b[39;00m\u001b[38;5;250m \u001b[39m\u001b[34m__call__\u001b[39m(\n\u001b[32m    269\u001b[39m     \u001b[38;5;28mself\u001b[39m,\n\u001b[32m    270\u001b[39m     request: Any,\n\u001b[32m   (...)\u001b[39m\u001b[32m    275\u001b[39m     compression: Optional[grpc.Compression] = \u001b[38;5;28;01mNone\u001b[39;00m,\n\u001b[32m    276\u001b[39m ) -> Any:\n\u001b[32m--> \u001b[39m\u001b[32m277\u001b[39m     response, ignored_call = \u001b[38;5;28;43mself\u001b[39;49m\u001b[43m.\u001b[49m\u001b[43m_with_call\u001b[49m\u001b[43m(\u001b[49m\n\u001b[32m    278\u001b[39m \u001b[43m        \u001b[49m\u001b[43mrequest\u001b[49m\u001b[43m,\u001b[49m\n\u001b[32m    279\u001b[39m \u001b[43m        \u001b[49m\u001b[43mtimeout\u001b[49m\u001b[43m=\u001b[49m\u001b[43mtimeout\u001b[49m\u001b[43m,\u001b[49m\n\u001b[32m    280\u001b[39m \u001b[43m        \u001b[49m\u001b[43mmetadata\u001b[49m\u001b[43m=\u001b[49m\u001b[43mmetadata\u001b[49m\u001b[43m,\u001b[49m\n\u001b[32m    281\u001b[39m \u001b[43m        \u001b[49m\u001b[43mcredentials\u001b[49m\u001b[43m=\u001b[49m\u001b[43mcredentials\u001b[49m\u001b[43m,\u001b[49m\n\u001b[32m    282\u001b[39m \u001b[43m        \u001b[49m\u001b[43mwait_for_ready\u001b[49m\u001b[43m=\u001b[49m\u001b[43mwait_for_ready\u001b[49m\u001b[43m,\u001b[49m\n\u001b[32m    283\u001b[39m \u001b[43m        \u001b[49m\u001b[43mcompression\u001b[49m\u001b[43m=\u001b[49m\u001b[43mcompression\u001b[49m\u001b[43m,\u001b[49m\n\u001b[32m    284\u001b[39m \u001b[43m    \u001b[49m\u001b[43m)\u001b[49m\n\u001b[32m    285\u001b[39m     \u001b[38;5;28;01mreturn\u001b[39;00m response\n",
      "\u001b[36mFile \u001b[39m\u001b[32m~\\AppData\\Local\\Packages\\PythonSoftwareFoundation.Python.3.11_qbz5n2kfra8p0\\LocalCache\\local-packages\\Python311\\site-packages\\grpc\\_interceptor.py:332\u001b[39m, in \u001b[36m_UnaryUnaryMultiCallable._with_call\u001b[39m\u001b[34m(self, request, timeout, metadata, credentials, wait_for_ready, compression)\u001b[39m\n\u001b[32m    329\u001b[39m call = \u001b[38;5;28mself\u001b[39m._interceptor.intercept_unary_unary(\n\u001b[32m    330\u001b[39m     continuation, client_call_details, request\n\u001b[32m    331\u001b[39m )\n\u001b[32m--> \u001b[39m\u001b[32m332\u001b[39m \u001b[38;5;28;01mreturn\u001b[39;00m \u001b[43mcall\u001b[49m\u001b[43m.\u001b[49m\u001b[43mresult\u001b[49m\u001b[43m(\u001b[49m\u001b[43m)\u001b[49m, call\n",
      "\u001b[36mFile \u001b[39m\u001b[32m~\\AppData\\Local\\Packages\\PythonSoftwareFoundation.Python.3.11_qbz5n2kfra8p0\\LocalCache\\local-packages\\Python311\\site-packages\\grpc\\_channel.py:440\u001b[39m, in \u001b[36m_InactiveRpcError.result\u001b[39m\u001b[34m(self, timeout)\u001b[39m\n\u001b[32m    439\u001b[39m \u001b[38;5;250m\u001b[39m\u001b[33;03m\"\"\"See grpc.Future.result.\"\"\"\u001b[39;00m\n\u001b[32m--> \u001b[39m\u001b[32m440\u001b[39m \u001b[38;5;28;01mraise\u001b[39;00m \u001b[38;5;28mself\u001b[39m\n",
      "\u001b[36mFile \u001b[39m\u001b[32m~\\AppData\\Local\\Packages\\PythonSoftwareFoundation.Python.3.11_qbz5n2kfra8p0\\LocalCache\\local-packages\\Python311\\site-packages\\grpc\\_interceptor.py:315\u001b[39m, in \u001b[36m_UnaryUnaryMultiCallable._with_call.<locals>.continuation\u001b[39m\u001b[34m(new_details, request)\u001b[39m\n\u001b[32m    314\u001b[39m \u001b[38;5;28;01mtry\u001b[39;00m:\n\u001b[32m--> \u001b[39m\u001b[32m315\u001b[39m     response, call = \u001b[38;5;28;43mself\u001b[39;49m\u001b[43m.\u001b[49m\u001b[43m_thunk\u001b[49m\u001b[43m(\u001b[49m\u001b[43mnew_method\u001b[49m\u001b[43m)\u001b[49m\u001b[43m.\u001b[49m\u001b[43mwith_call\u001b[49m\u001b[43m(\u001b[49m\n\u001b[32m    316\u001b[39m \u001b[43m        \u001b[49m\u001b[43mrequest\u001b[49m\u001b[43m,\u001b[49m\n\u001b[32m    317\u001b[39m \u001b[43m        \u001b[49m\u001b[43mtimeout\u001b[49m\u001b[43m=\u001b[49m\u001b[43mnew_timeout\u001b[49m\u001b[43m,\u001b[49m\n\u001b[32m    318\u001b[39m \u001b[43m        \u001b[49m\u001b[43mmetadata\u001b[49m\u001b[43m=\u001b[49m\u001b[43mnew_metadata\u001b[49m\u001b[43m,\u001b[49m\n\u001b[32m    319\u001b[39m \u001b[43m        \u001b[49m\u001b[43mcredentials\u001b[49m\u001b[43m=\u001b[49m\u001b[43mnew_credentials\u001b[49m\u001b[43m,\u001b[49m\n\u001b[32m    320\u001b[39m \u001b[43m        \u001b[49m\u001b[43mwait_for_ready\u001b[49m\u001b[43m=\u001b[49m\u001b[43mnew_wait_for_ready\u001b[49m\u001b[43m,\u001b[49m\n\u001b[32m    321\u001b[39m \u001b[43m        \u001b[49m\u001b[43mcompression\u001b[49m\u001b[43m=\u001b[49m\u001b[43mnew_compression\u001b[49m\u001b[43m,\u001b[49m\n\u001b[32m    322\u001b[39m \u001b[43m    \u001b[49m\u001b[43m)\u001b[49m\n\u001b[32m    323\u001b[39m     \u001b[38;5;28;01mreturn\u001b[39;00m _UnaryOutcome(response, call)\n",
      "\u001b[36mFile \u001b[39m\u001b[32m~\\AppData\\Local\\Packages\\PythonSoftwareFoundation.Python.3.11_qbz5n2kfra8p0\\LocalCache\\local-packages\\Python311\\site-packages\\grpc\\_channel.py:1192\u001b[39m, in \u001b[36m_UnaryUnaryMultiCallable.with_call\u001b[39m\u001b[34m(self, request, timeout, metadata, credentials, wait_for_ready, compression)\u001b[39m\n\u001b[32m   1189\u001b[39m state, call = \u001b[38;5;28mself\u001b[39m._blocking(\n\u001b[32m   1190\u001b[39m     request, timeout, metadata, credentials, wait_for_ready, compression\n\u001b[32m   1191\u001b[39m )\n\u001b[32m-> \u001b[39m\u001b[32m1192\u001b[39m \u001b[38;5;28;01mreturn\u001b[39;00m \u001b[43m_end_unary_response_blocking\u001b[49m\u001b[43m(\u001b[49m\u001b[43mstate\u001b[49m\u001b[43m,\u001b[49m\u001b[43m \u001b[49m\u001b[43mcall\u001b[49m\u001b[43m,\u001b[49m\u001b[43m \u001b[49m\u001b[38;5;28;43;01mTrue\u001b[39;49;00m\u001b[43m,\u001b[49m\u001b[43m \u001b[49m\u001b[38;5;28;43;01mNone\u001b[39;49;00m\u001b[43m)\u001b[49m\n",
      "\u001b[36mFile \u001b[39m\u001b[32m~\\AppData\\Local\\Packages\\PythonSoftwareFoundation.Python.3.11_qbz5n2kfra8p0\\LocalCache\\local-packages\\Python311\\site-packages\\grpc\\_channel.py:1006\u001b[39m, in \u001b[36m_end_unary_response_blocking\u001b[39m\u001b[34m(state, call, with_call, deadline)\u001b[39m\n\u001b[32m   1005\u001b[39m \u001b[38;5;28;01melse\u001b[39;00m:\n\u001b[32m-> \u001b[39m\u001b[32m1006\u001b[39m     \u001b[38;5;28;01mraise\u001b[39;00m _InactiveRpcError(state)\n",
      "\u001b[31m_InactiveRpcError\u001b[39m: <_InactiveRpcError of RPC that terminated with:\n\tstatus = StatusCode.ALREADY_EXISTS\n\tdetails = \"DataStore projects/168027251845/locations/global/collections/default_collection/dataStores/poi-locations-ds already exists.\"\n\tdebug_error_string = \"UNKNOWN:Error received from peer ipv4:142.250.69.42:443 {grpc_status:6, grpc_message:\"DataStore projects/168027251845/locations/global/collections/default_collection/dataStores/poi-locations-ds already exists.\"}\"\n>",
      "\nThe above exception was the direct cause of the following exception:\n",
      "\u001b[31mAlreadyExists\u001b[39m                             Traceback (most recent call last)",
      "\u001b[36mCell\u001b[39m\u001b[36m \u001b[39m\u001b[32mIn[6]\u001b[39m\u001b[32m, line 2\u001b[39m\n\u001b[32m      1\u001b[39m \u001b[38;5;66;03m# 1) Create\u001b[39;00m\n\u001b[32m----> \u001b[39m\u001b[32m2\u001b[39m ds = \u001b[43mcreate_datastore\u001b[49m\u001b[43m(\u001b[49m\n\u001b[32m      3\u001b[39m \u001b[43m    \u001b[49m\u001b[43mproject_id\u001b[49m\u001b[43m=\u001b[49m\u001b[43mPROJECT\u001b[49m\u001b[43m,\u001b[49m\n\u001b[32m      4\u001b[39m \u001b[43m    \u001b[49m\u001b[43mlocation\u001b[49m\u001b[43m=\u001b[49m\u001b[43mLOCATION_DS\u001b[49m\u001b[43m,\u001b[49m\n\u001b[32m      5\u001b[39m \u001b[43m    \u001b[49m\u001b[43mdata_store_id\u001b[49m\u001b[43m=\u001b[49m\u001b[43mDS_ID\u001b[49m\u001b[43m,\u001b[49m\n\u001b[32m      6\u001b[39m \u001b[43m    \u001b[49m\u001b[43mdisplay_name\u001b[49m\u001b[43m=\u001b[49m\u001b[43mDS_DISPLAY_NAME\u001b[49m\u001b[43m,\u001b[49m\n\u001b[32m      7\u001b[39m \u001b[43m    \u001b[49m\u001b[43mindustry_vertical\u001b[49m\u001b[43m=\u001b[49m\u001b[43mdiscoveryengine\u001b[49m\u001b[43m.\u001b[49m\u001b[43mIndustryVertical\u001b[49m\u001b[43m.\u001b[49m\u001b[43mGENERIC\u001b[49m\u001b[43m,\u001b[49m\n\u001b[32m      8\u001b[39m \u001b[43m    \u001b[49m\u001b[43msolution_types\u001b[49m\u001b[43m=\u001b[49m\u001b[43m(\u001b[49m\u001b[43mdiscoveryengine\u001b[49m\u001b[43m.\u001b[49m\u001b[43mSolutionType\u001b[49m\u001b[43m.\u001b[49m\u001b[43mSOLUTION_TYPE_SEARCH\u001b[49m\u001b[43m,\u001b[49m\u001b[43m)\u001b[49m\u001b[43m,\u001b[49m\n\u001b[32m      9\u001b[39m \u001b[43m    \u001b[49m\u001b[43mcollection_id\u001b[49m\u001b[43m=\u001b[49m\u001b[43mCOLL\u001b[49m\u001b[43m,\u001b[49m\n\u001b[32m     10\u001b[39m \u001b[43m)\u001b[49m\n\u001b[32m     11\u001b[39m \u001b[38;5;28mprint\u001b[39m(\u001b[33m\"\u001b[39m\u001b[33mCreated:\u001b[39m\u001b[33m\"\u001b[39m, ds.name)\n",
      "\u001b[36mFile \u001b[39m\u001b[32mc:\\Users\\reube\\OneDrive\\Desktop\\Kaggle\\geo-intents\\geo-intents\\notebooks\\..\\app\\utils\\datastore_manager.py:118\u001b[39m, in \u001b[36mcreate_datastore\u001b[39m\u001b[34m(project_id, location, data_store_id, display_name, industry_vertical, solution_types, content_config, collection_id)\u001b[39m\n\u001b[32m    109\u001b[39m parent = collection_path(project_id, location, collection_id)\n\u001b[32m    111\u001b[39m ds = discoveryengine.DataStore(\n\u001b[32m    112\u001b[39m     display_name=display_name,\n\u001b[32m    113\u001b[39m     industry_vertical=industry_vertical,\n\u001b[32m    114\u001b[39m     solution_types=\u001b[38;5;28mlist\u001b[39m(solution_types),\n\u001b[32m    115\u001b[39m     content_config=content_config,\n\u001b[32m    116\u001b[39m )\n\u001b[32m--> \u001b[39m\u001b[32m118\u001b[39m op: Operation = \u001b[43mdss\u001b[49m\u001b[43m.\u001b[49m\u001b[43mcreate_data_store\u001b[49m\u001b[43m(\u001b[49m\n\u001b[32m    119\u001b[39m \u001b[43m    \u001b[49m\u001b[43mrequest\u001b[49m\u001b[43m=\u001b[49m\u001b[43mdiscoveryengine\u001b[49m\u001b[43m.\u001b[49m\u001b[43mCreateDataStoreRequest\u001b[49m\u001b[43m(\u001b[49m\n\u001b[32m    120\u001b[39m \u001b[43m        \u001b[49m\u001b[43mparent\u001b[49m\u001b[43m=\u001b[49m\u001b[43mparent\u001b[49m\u001b[43m,\u001b[49m\n\u001b[32m    121\u001b[39m \u001b[43m        \u001b[49m\u001b[43mdata_store\u001b[49m\u001b[43m=\u001b[49m\u001b[43mds\u001b[49m\u001b[43m,\u001b[49m\n\u001b[32m    122\u001b[39m \u001b[43m        \u001b[49m\u001b[43mdata_store_id\u001b[49m\u001b[43m=\u001b[49m\u001b[43mdata_store_id\u001b[49m\u001b[43m,\u001b[49m\n\u001b[32m    123\u001b[39m \u001b[43m        \u001b[49m\u001b[38;5;66;43;03m# Optionally: skip_default_schema_creation=True\u001b[39;49;00m\n\u001b[32m    124\u001b[39m \u001b[43m    \u001b[49m\u001b[43m)\u001b[49m\n\u001b[32m    125\u001b[39m \u001b[43m\u001b[49m\u001b[43m)\u001b[49m\n\u001b[32m    126\u001b[39m \u001b[38;5;66;03m# LRO: creation is asynchronous\u001b[39;00m\n\u001b[32m    127\u001b[39m \u001b[38;5;28;01mreturn\u001b[39;00m op.result()\n",
      "\u001b[36mFile \u001b[39m\u001b[32m~\\AppData\\Local\\Packages\\PythonSoftwareFoundation.Python.3.11_qbz5n2kfra8p0\\LocalCache\\local-packages\\Python311\\site-packages\\google\\cloud\\discoveryengine_v1\\services\\data_store_service\\client.py:1046\u001b[39m, in \u001b[36mDataStoreServiceClient.create_data_store\u001b[39m\u001b[34m(self, request, parent, data_store, data_store_id, retry, timeout, metadata)\u001b[39m\n\u001b[32m   1043\u001b[39m \u001b[38;5;28mself\u001b[39m._validate_universe_domain()\n\u001b[32m   1045\u001b[39m \u001b[38;5;66;03m# Send the request.\u001b[39;00m\n\u001b[32m-> \u001b[39m\u001b[32m1046\u001b[39m response = \u001b[43mrpc\u001b[49m\u001b[43m(\u001b[49m\n\u001b[32m   1047\u001b[39m \u001b[43m    \u001b[49m\u001b[43mrequest\u001b[49m\u001b[43m,\u001b[49m\n\u001b[32m   1048\u001b[39m \u001b[43m    \u001b[49m\u001b[43mretry\u001b[49m\u001b[43m=\u001b[49m\u001b[43mretry\u001b[49m\u001b[43m,\u001b[49m\n\u001b[32m   1049\u001b[39m \u001b[43m    \u001b[49m\u001b[43mtimeout\u001b[49m\u001b[43m=\u001b[49m\u001b[43mtimeout\u001b[49m\u001b[43m,\u001b[49m\n\u001b[32m   1050\u001b[39m \u001b[43m    \u001b[49m\u001b[43mmetadata\u001b[49m\u001b[43m=\u001b[49m\u001b[43mmetadata\u001b[49m\u001b[43m,\u001b[49m\n\u001b[32m   1051\u001b[39m \u001b[43m\u001b[49m\u001b[43m)\u001b[49m\n\u001b[32m   1053\u001b[39m \u001b[38;5;66;03m# Wrap the response in an operation future.\u001b[39;00m\n\u001b[32m   1054\u001b[39m response = operation.from_gapic(\n\u001b[32m   1055\u001b[39m     response,\n\u001b[32m   1056\u001b[39m     \u001b[38;5;28mself\u001b[39m._transport.operations_client,\n\u001b[32m   1057\u001b[39m     gcd_data_store.DataStore,\n\u001b[32m   1058\u001b[39m     metadata_type=data_store_service.CreateDataStoreMetadata,\n\u001b[32m   1059\u001b[39m )\n",
      "\u001b[36mFile \u001b[39m\u001b[32m~\\AppData\\Local\\Packages\\PythonSoftwareFoundation.Python.3.11_qbz5n2kfra8p0\\LocalCache\\local-packages\\Python311\\site-packages\\google\\api_core\\gapic_v1\\method.py:131\u001b[39m, in \u001b[36m_GapicCallable.__call__\u001b[39m\u001b[34m(self, timeout, retry, compression, *args, **kwargs)\u001b[39m\n\u001b[32m    128\u001b[39m \u001b[38;5;28;01mif\u001b[39;00m \u001b[38;5;28mself\u001b[39m._compression \u001b[38;5;129;01mis\u001b[39;00m \u001b[38;5;129;01mnot\u001b[39;00m \u001b[38;5;28;01mNone\u001b[39;00m:\n\u001b[32m    129\u001b[39m     kwargs[\u001b[33m\"\u001b[39m\u001b[33mcompression\u001b[39m\u001b[33m\"\u001b[39m] = compression\n\u001b[32m--> \u001b[39m\u001b[32m131\u001b[39m \u001b[38;5;28;01mreturn\u001b[39;00m \u001b[43mwrapped_func\u001b[49m\u001b[43m(\u001b[49m\u001b[43m*\u001b[49m\u001b[43margs\u001b[49m\u001b[43m,\u001b[49m\u001b[43m \u001b[49m\u001b[43m*\u001b[49m\u001b[43m*\u001b[49m\u001b[43mkwargs\u001b[49m\u001b[43m)\u001b[49m\n",
      "\u001b[36mFile \u001b[39m\u001b[32m~\\AppData\\Local\\Packages\\PythonSoftwareFoundation.Python.3.11_qbz5n2kfra8p0\\LocalCache\\local-packages\\Python311\\site-packages\\google\\api_core\\grpc_helpers.py:78\u001b[39m, in \u001b[36m_wrap_unary_errors.<locals>.error_remapped_callable\u001b[39m\u001b[34m(*args, **kwargs)\u001b[39m\n\u001b[32m     76\u001b[39m     \u001b[38;5;28;01mreturn\u001b[39;00m callable_(*args, **kwargs)\n\u001b[32m     77\u001b[39m \u001b[38;5;28;01mexcept\u001b[39;00m grpc.RpcError \u001b[38;5;28;01mas\u001b[39;00m exc:\n\u001b[32m---> \u001b[39m\u001b[32m78\u001b[39m     \u001b[38;5;28;01mraise\u001b[39;00m exceptions.from_grpc_error(exc) \u001b[38;5;28;01mfrom\u001b[39;00m\u001b[38;5;250m \u001b[39m\u001b[34;01mexc\u001b[39;00m\n",
      "\u001b[31mAlreadyExists\u001b[39m: 409 DataStore projects/168027251845/locations/global/collections/default_collection/dataStores/poi-locations-ds already exists."
     ]
    }
   ],
   "source": [
    "# 1) Create\n",
    "ds = create_datastore(\n",
    "    project_id=PROJECT,\n",
    "    location=LOCATION_DS,\n",
    "    data_store_id=DS_ID,\n",
    "    display_name=DS_DISPLAY_NAME,\n",
    "    industry_vertical=discoveryengine.IndustryVertical.GENERIC,\n",
    "    solution_types=(discoveryengine.SolutionType.SOLUTION_TYPE_SEARCH,),\n",
    "    collection_id=COLL,\n",
    ")\n",
    "print(\"Created:\", ds.name)"
   ]
  },
  {
   "cell_type": "code",
   "execution_count": 7,
   "id": "997333c9",
   "metadata": {},
   "outputs": [
    {
     "ename": "Conflict",
     "evalue": "409 POST https://bigquery.googleapis.com/bigquery/v2/projects/kaggle-hackathon-471317/datasets?prettyPrint=false: Already Exists: Dataset kaggle-hackathon-471317:geo_intents",
     "output_type": "error",
     "traceback": [
      "\u001b[31m---------------------------------------------------------------------------\u001b[39m",
      "\u001b[31mConflict\u001b[39m                                  Traceback (most recent call last)",
      "\u001b[36mCell\u001b[39m\u001b[36m \u001b[39m\u001b[32mIn[7]\u001b[39m\u001b[32m, line 2\u001b[39m\n\u001b[32m      1\u001b[39m \u001b[38;5;66;03m# 1) Dataset lifecycle\u001b[39;00m\n\u001b[32m----> \u001b[39m\u001b[32m2\u001b[39m \u001b[43mcreate_dataset\u001b[49m\u001b[43m(\u001b[49m\u001b[43mPROJECT\u001b[49m\u001b[43m,\u001b[49m\u001b[43m \u001b[49m\u001b[43mDS\u001b[49m\u001b[43m,\u001b[49m\u001b[43m \u001b[49m\u001b[43mlocation\u001b[49m\u001b[43m=\u001b[49m\u001b[43mLOCATION_BQ\u001b[49m\u001b[43m,\u001b[49m\u001b[43m \u001b[49m\u001b[43mdescription\u001b[49m\u001b[43m=\u001b[49m\u001b[33;43m\"\u001b[39;49m\u001b[33;43mGeo Intents Analytics\u001b[39;49m\u001b[33;43m\"\u001b[39;49m\u001b[43m)\u001b[49m\n\u001b[32m      3\u001b[39m \u001b[38;5;28mprint\u001b[39m([d.dataset_id \u001b[38;5;28;01mfor\u001b[39;00m d \u001b[38;5;129;01min\u001b[39;00m list_datasets(PROJECT)])\n\u001b[32m      4\u001b[39m ds = get_dataset(PROJECT, DS)\n",
      "\u001b[36mFile \u001b[39m\u001b[32mc:\\Users\\reube\\OneDrive\\Desktop\\Kaggle\\geo-intents\\geo-intents\\notebooks\\..\\app\\utils\\bigquery_manager.py:95\u001b[39m, in \u001b[36mcreate_dataset\u001b[39m\u001b[34m(project_id, dataset_id, location, description, labels, exists_ok)\u001b[39m\n\u001b[32m     92\u001b[39m \u001b[38;5;28;01mif\u001b[39;00m labels:\n\u001b[32m     93\u001b[39m     ds_ref.labels = labels\n\u001b[32m---> \u001b[39m\u001b[32m95\u001b[39m \u001b[38;5;28;01mreturn\u001b[39;00m \u001b[43mclient\u001b[49m\u001b[43m.\u001b[49m\u001b[43mcreate_dataset\u001b[49m\u001b[43m(\u001b[49m\u001b[43mds_ref\u001b[49m\u001b[43m,\u001b[49m\u001b[43m \u001b[49m\u001b[43mexists_ok\u001b[49m\u001b[43m=\u001b[49m\u001b[43mexists_ok\u001b[49m\u001b[43m)\u001b[49m\n",
      "\u001b[36mFile \u001b[39m\u001b[32m~\\AppData\\Local\\Packages\\PythonSoftwareFoundation.Python.3.11_qbz5n2kfra8p0\\LocalCache\\local-packages\\Python311\\site-packages\\google\\cloud\\bigquery\\client.py:709\u001b[39m, in \u001b[36mClient.create_dataset\u001b[39m\u001b[34m(self, dataset, exists_ok, retry, timeout)\u001b[39m\n\u001b[32m    706\u001b[39m \u001b[38;5;28;01mtry\u001b[39;00m:\n\u001b[32m    707\u001b[39m     span_attributes = {\u001b[33m\"\u001b[39m\u001b[33mpath\u001b[39m\u001b[33m\"\u001b[39m: path}\n\u001b[32m--> \u001b[39m\u001b[32m709\u001b[39m     api_response = \u001b[38;5;28;43mself\u001b[39;49m\u001b[43m.\u001b[49m\u001b[43m_call_api\u001b[49m\u001b[43m(\u001b[49m\n\u001b[32m    710\u001b[39m \u001b[43m        \u001b[49m\u001b[43mretry\u001b[49m\u001b[43m,\u001b[49m\n\u001b[32m    711\u001b[39m \u001b[43m        \u001b[49m\u001b[43mspan_name\u001b[49m\u001b[43m=\u001b[49m\u001b[33;43m\"\u001b[39;49m\u001b[33;43mBigQuery.createDataset\u001b[39;49m\u001b[33;43m\"\u001b[39;49m\u001b[43m,\u001b[49m\n\u001b[32m    712\u001b[39m \u001b[43m        \u001b[49m\u001b[43mspan_attributes\u001b[49m\u001b[43m=\u001b[49m\u001b[43mspan_attributes\u001b[49m\u001b[43m,\u001b[49m\n\u001b[32m    713\u001b[39m \u001b[43m        \u001b[49m\u001b[43mmethod\u001b[49m\u001b[43m=\u001b[49m\u001b[33;43m\"\u001b[39;49m\u001b[33;43mPOST\u001b[39;49m\u001b[33;43m\"\u001b[39;49m\u001b[43m,\u001b[49m\n\u001b[32m    714\u001b[39m \u001b[43m        \u001b[49m\u001b[43mpath\u001b[49m\u001b[43m=\u001b[49m\u001b[43mpath\u001b[49m\u001b[43m,\u001b[49m\n\u001b[32m    715\u001b[39m \u001b[43m        \u001b[49m\u001b[43mdata\u001b[49m\u001b[43m=\u001b[49m\u001b[43mdata\u001b[49m\u001b[43m,\u001b[49m\n\u001b[32m    716\u001b[39m \u001b[43m        \u001b[49m\u001b[43mtimeout\u001b[49m\u001b[43m=\u001b[49m\u001b[43mtimeout\u001b[49m\u001b[43m,\u001b[49m\n\u001b[32m    717\u001b[39m \u001b[43m    \u001b[49m\u001b[43m)\u001b[49m\n\u001b[32m    718\u001b[39m     \u001b[38;5;28;01mreturn\u001b[39;00m Dataset.from_api_repr(api_response)\n\u001b[32m    719\u001b[39m \u001b[38;5;28;01mexcept\u001b[39;00m core_exceptions.Conflict:\n",
      "\u001b[36mFile \u001b[39m\u001b[32m~\\AppData\\Local\\Packages\\PythonSoftwareFoundation.Python.3.11_qbz5n2kfra8p0\\LocalCache\\local-packages\\Python311\\site-packages\\google\\cloud\\bigquery\\client.py:859\u001b[39m, in \u001b[36mClient._call_api\u001b[39m\u001b[34m(self, retry, span_name, span_attributes, job_ref, headers, **kwargs)\u001b[39m\n\u001b[32m    855\u001b[39m \u001b[38;5;28;01mif\u001b[39;00m span_name \u001b[38;5;129;01mis\u001b[39;00m \u001b[38;5;129;01mnot\u001b[39;00m \u001b[38;5;28;01mNone\u001b[39;00m:\n\u001b[32m    856\u001b[39m     \u001b[38;5;28;01mwith\u001b[39;00m create_span(\n\u001b[32m    857\u001b[39m         name=span_name, attributes=span_attributes, client=\u001b[38;5;28mself\u001b[39m, job_ref=job_ref\n\u001b[32m    858\u001b[39m     ):\n\u001b[32m--> \u001b[39m\u001b[32m859\u001b[39m         \u001b[38;5;28;01mreturn\u001b[39;00m \u001b[43mcall\u001b[49m\u001b[43m(\u001b[49m\u001b[43m)\u001b[49m\n\u001b[32m    861\u001b[39m \u001b[38;5;28;01mreturn\u001b[39;00m call()\n",
      "\u001b[36mFile \u001b[39m\u001b[32m~\\AppData\\Local\\Packages\\PythonSoftwareFoundation.Python.3.11_qbz5n2kfra8p0\\LocalCache\\local-packages\\Python311\\site-packages\\google\\api_core\\retry\\retry_unary.py:294\u001b[39m, in \u001b[36mRetry.__call__.<locals>.retry_wrapped_func\u001b[39m\u001b[34m(*args, **kwargs)\u001b[39m\n\u001b[32m    290\u001b[39m target = functools.partial(func, *args, **kwargs)\n\u001b[32m    291\u001b[39m sleep_generator = exponential_sleep_generator(\n\u001b[32m    292\u001b[39m     \u001b[38;5;28mself\u001b[39m._initial, \u001b[38;5;28mself\u001b[39m._maximum, multiplier=\u001b[38;5;28mself\u001b[39m._multiplier\n\u001b[32m    293\u001b[39m )\n\u001b[32m--> \u001b[39m\u001b[32m294\u001b[39m \u001b[38;5;28;01mreturn\u001b[39;00m \u001b[43mretry_target\u001b[49m\u001b[43m(\u001b[49m\n\u001b[32m    295\u001b[39m \u001b[43m    \u001b[49m\u001b[43mtarget\u001b[49m\u001b[43m,\u001b[49m\n\u001b[32m    296\u001b[39m \u001b[43m    \u001b[49m\u001b[38;5;28;43mself\u001b[39;49m\u001b[43m.\u001b[49m\u001b[43m_predicate\u001b[49m\u001b[43m,\u001b[49m\n\u001b[32m    297\u001b[39m \u001b[43m    \u001b[49m\u001b[43msleep_generator\u001b[49m\u001b[43m,\u001b[49m\n\u001b[32m    298\u001b[39m \u001b[43m    \u001b[49m\u001b[43mtimeout\u001b[49m\u001b[43m=\u001b[49m\u001b[38;5;28;43mself\u001b[39;49m\u001b[43m.\u001b[49m\u001b[43m_timeout\u001b[49m\u001b[43m,\u001b[49m\n\u001b[32m    299\u001b[39m \u001b[43m    \u001b[49m\u001b[43mon_error\u001b[49m\u001b[43m=\u001b[49m\u001b[43mon_error\u001b[49m\u001b[43m,\u001b[49m\n\u001b[32m    300\u001b[39m \u001b[43m\u001b[49m\u001b[43m)\u001b[49m\n",
      "\u001b[36mFile \u001b[39m\u001b[32m~\\AppData\\Local\\Packages\\PythonSoftwareFoundation.Python.3.11_qbz5n2kfra8p0\\LocalCache\\local-packages\\Python311\\site-packages\\google\\api_core\\retry\\retry_unary.py:156\u001b[39m, in \u001b[36mretry_target\u001b[39m\u001b[34m(target, predicate, sleep_generator, timeout, on_error, exception_factory, **kwargs)\u001b[39m\n\u001b[32m    152\u001b[39m \u001b[38;5;66;03m# pylint: disable=broad-except\u001b[39;00m\n\u001b[32m    153\u001b[39m \u001b[38;5;66;03m# This function explicitly must deal with broad exceptions.\u001b[39;00m\n\u001b[32m    154\u001b[39m \u001b[38;5;28;01mexcept\u001b[39;00m \u001b[38;5;167;01mException\u001b[39;00m \u001b[38;5;28;01mas\u001b[39;00m exc:\n\u001b[32m    155\u001b[39m     \u001b[38;5;66;03m# defer to shared logic for handling errors\u001b[39;00m\n\u001b[32m--> \u001b[39m\u001b[32m156\u001b[39m     next_sleep = \u001b[43m_retry_error_helper\u001b[49m\u001b[43m(\u001b[49m\n\u001b[32m    157\u001b[39m \u001b[43m        \u001b[49m\u001b[43mexc\u001b[49m\u001b[43m,\u001b[49m\n\u001b[32m    158\u001b[39m \u001b[43m        \u001b[49m\u001b[43mdeadline\u001b[49m\u001b[43m,\u001b[49m\n\u001b[32m    159\u001b[39m \u001b[43m        \u001b[49m\u001b[43msleep_iter\u001b[49m\u001b[43m,\u001b[49m\n\u001b[32m    160\u001b[39m \u001b[43m        \u001b[49m\u001b[43merror_list\u001b[49m\u001b[43m,\u001b[49m\n\u001b[32m    161\u001b[39m \u001b[43m        \u001b[49m\u001b[43mpredicate\u001b[49m\u001b[43m,\u001b[49m\n\u001b[32m    162\u001b[39m \u001b[43m        \u001b[49m\u001b[43mon_error\u001b[49m\u001b[43m,\u001b[49m\n\u001b[32m    163\u001b[39m \u001b[43m        \u001b[49m\u001b[43mexception_factory\u001b[49m\u001b[43m,\u001b[49m\n\u001b[32m    164\u001b[39m \u001b[43m        \u001b[49m\u001b[43mtimeout\u001b[49m\u001b[43m,\u001b[49m\n\u001b[32m    165\u001b[39m \u001b[43m    \u001b[49m\u001b[43m)\u001b[49m\n\u001b[32m    166\u001b[39m     \u001b[38;5;66;03m# if exception not raised, sleep before next attempt\u001b[39;00m\n\u001b[32m    167\u001b[39m     time.sleep(next_sleep)\n",
      "\u001b[36mFile \u001b[39m\u001b[32m~\\AppData\\Local\\Packages\\PythonSoftwareFoundation.Python.3.11_qbz5n2kfra8p0\\LocalCache\\local-packages\\Python311\\site-packages\\google\\api_core\\retry\\retry_base.py:214\u001b[39m, in \u001b[36m_retry_error_helper\u001b[39m\u001b[34m(exc, deadline, sleep_iterator, error_list, predicate_fn, on_error_fn, exc_factory_fn, original_timeout)\u001b[39m\n\u001b[32m    208\u001b[39m \u001b[38;5;28;01mif\u001b[39;00m \u001b[38;5;129;01mnot\u001b[39;00m predicate_fn(exc):\n\u001b[32m    209\u001b[39m     final_exc, source_exc = exc_factory_fn(\n\u001b[32m    210\u001b[39m         error_list,\n\u001b[32m    211\u001b[39m         RetryFailureReason.NON_RETRYABLE_ERROR,\n\u001b[32m    212\u001b[39m         original_timeout,\n\u001b[32m    213\u001b[39m     )\n\u001b[32m--> \u001b[39m\u001b[32m214\u001b[39m     \u001b[38;5;28;01mraise\u001b[39;00m final_exc \u001b[38;5;28;01mfrom\u001b[39;00m\u001b[38;5;250m \u001b[39m\u001b[34;01msource_exc\u001b[39;00m\n\u001b[32m    215\u001b[39m \u001b[38;5;28;01mif\u001b[39;00m on_error_fn \u001b[38;5;129;01mis\u001b[39;00m \u001b[38;5;129;01mnot\u001b[39;00m \u001b[38;5;28;01mNone\u001b[39;00m:\n\u001b[32m    216\u001b[39m     on_error_fn(exc)\n",
      "\u001b[36mFile \u001b[39m\u001b[32m~\\AppData\\Local\\Packages\\PythonSoftwareFoundation.Python.3.11_qbz5n2kfra8p0\\LocalCache\\local-packages\\Python311\\site-packages\\google\\api_core\\retry\\retry_unary.py:147\u001b[39m, in \u001b[36mretry_target\u001b[39m\u001b[34m(target, predicate, sleep_generator, timeout, on_error, exception_factory, **kwargs)\u001b[39m\n\u001b[32m    145\u001b[39m \u001b[38;5;28;01mwhile\u001b[39;00m \u001b[38;5;28;01mTrue\u001b[39;00m:\n\u001b[32m    146\u001b[39m     \u001b[38;5;28;01mtry\u001b[39;00m:\n\u001b[32m--> \u001b[39m\u001b[32m147\u001b[39m         result = \u001b[43mtarget\u001b[49m\u001b[43m(\u001b[49m\u001b[43m)\u001b[49m\n\u001b[32m    148\u001b[39m         \u001b[38;5;28;01mif\u001b[39;00m inspect.isawaitable(result):\n\u001b[32m    149\u001b[39m             warnings.warn(_ASYNC_RETRY_WARNING)\n",
      "\u001b[36mFile \u001b[39m\u001b[32m~\\AppData\\Local\\Packages\\PythonSoftwareFoundation.Python.3.11_qbz5n2kfra8p0\\LocalCache\\local-packages\\Python311\\site-packages\\google\\cloud\\_http\\__init__.py:494\u001b[39m, in \u001b[36mJSONConnection.api_request\u001b[39m\u001b[34m(self, method, path, query_params, data, content_type, headers, api_base_url, api_version, expect_json, _target_object, timeout, extra_api_info)\u001b[39m\n\u001b[32m    482\u001b[39m response = \u001b[38;5;28mself\u001b[39m._make_request(\n\u001b[32m    483\u001b[39m     method=method,\n\u001b[32m    484\u001b[39m     url=url,\n\u001b[32m   (...)\u001b[39m\u001b[32m    490\u001b[39m     extra_api_info=extra_api_info,\n\u001b[32m    491\u001b[39m )\n\u001b[32m    493\u001b[39m \u001b[38;5;28;01mif\u001b[39;00m \u001b[38;5;129;01mnot\u001b[39;00m \u001b[32m200\u001b[39m <= response.status_code < \u001b[32m300\u001b[39m:\n\u001b[32m--> \u001b[39m\u001b[32m494\u001b[39m     \u001b[38;5;28;01mraise\u001b[39;00m exceptions.from_http_response(response)\n\u001b[32m    496\u001b[39m \u001b[38;5;28;01mif\u001b[39;00m expect_json \u001b[38;5;129;01mand\u001b[39;00m response.content:\n\u001b[32m    497\u001b[39m     \u001b[38;5;28;01mreturn\u001b[39;00m response.json()\n",
      "\u001b[31mConflict\u001b[39m: 409 POST https://bigquery.googleapis.com/bigquery/v2/projects/kaggle-hackathon-471317/datasets?prettyPrint=false: Already Exists: Dataset kaggle-hackathon-471317:geo_intents"
     ]
    }
   ],
   "source": [
    "# 1) Dataset lifecycle\n",
    "create_dataset(PROJECT, DS, location=LOCATION_BQ, description=\"Geo Intents Analytics\")\n",
    "print([d.dataset_id for d in list_datasets(PROJECT)])\n",
    "ds = get_dataset(PROJECT, DS)\n"
   ]
  },
  {
   "cell_type": "code",
   "execution_count": null,
   "id": "a7949eec",
   "metadata": {},
   "outputs": [],
   "source": [
    "job = run_query(\n",
    "    PROJECT,\n",
    "    \"\"\"\n",
    "SELECT\n",
    "  id as _id,\n",
    "  geometry,\n",
    "  bbox,\n",
    "  names.primary AS name,\n",
    "  categories.primary AS category,\n",
    "  brand.names.`primary` AS brand,\n",
    "IF\n",
    "  (ARRAY_LENGTH(addresses.`list`)>0, addresses.`list`[SAFE_OFFSET(0)].element.freeform, NULL) AS street_address,\n",
    "IF\n",
    "  (ARRAY_LENGTH(addresses.`list`)>0, addresses.`list`[SAFE_OFFSET(0)].element.locality, NULL) AS locality,\n",
    "IF\n",
    "  (ARRAY_LENGTH(addresses.`list`)>0, addresses.`list`[SAFE_OFFSET(0)].element.postcode, NULL) AS postcode,\n",
    "IF\n",
    "  (ARRAY_LENGTH(addresses.`list`)>0, addresses.`list`[SAFE_OFFSET(0)].element.region, NULL) AS region,\n",
    "IF\n",
    "  (ARRAY_LENGTH(addresses.`list`)>0, addresses.`list`[SAFE_OFFSET(0)].element.country, NULL) AS country,\n",
    "FROM\n",
    "  bigquery-public-data.overture_maps.place\n",
    "WHERE\n",
    "  addresses.list[\n",
    "OFFSET\n",
    "  (0)].element.region=\"CA\"\n",
    "  AND categories.primary IN ( # Core Coffee Competitors Categories 'coffee_shop',\n",
    "    'coffee_roastery',\n",
    "    'cafe',\n",
    "    'hong_kong_style_cafe',\n",
    "    'bubble_tea',\n",
    "    'tea_room',\n",
    "    'bakery',\n",
    "    'donuts',\n",
    "    'afghan_restaurant',\n",
    "    'african_restaurant',\n",
    "    'american_restaurant',\n",
    "    'arabian_restaurant',\n",
    "    'argentine_restaurant',\n",
    "    'armenian_restaurant',\n",
    "    'asian_fusion_restaurant',\n",
    "    'asian_grocery_store',\n",
    "    'asian_restaurant',\n",
    "    'australian_restaurant',\n",
    "    'austrian_restaurant',\n",
    "    'bagel_restaurant',\n",
    "    'bakery',\n",
    "    'bangladeshi_restaurant',\n",
    "    'bar_and_grill_restaurant',\n",
    "    'barbecue_restaurant',\n",
    "    'basque_restaurant',\n",
    "    'belgian_restaurant',\n",
    "    'brazilian_restaurant',\n",
    "    'breakfast_and_brunch_restaurant',\n",
    "    'british_restaurant',\n",
    "    'buffet_restaurant',\n",
    "    'burger_restaurant',\n",
    "    'burmese_restaurant',\n",
    "    'cajun_and_creole_restaurant',\n",
    "    'cambodian_restaurant',\n",
    "    'canadian_restaurant',\n",
    "    'caribbean_restaurant',\n",
    "    'cheesesteak_restaurant',\n",
    "    'chicken_restaurant',\n",
    "    'chicken_wings_restaurant',\n",
    "    'chilean_restaurant',\n",
    "    'chinese_restaurant',\n",
    "    'colombian_restaurant',\n",
    "    'comfort_food_restaurant',\n",
    "    'convenience_store',\n",
    "    'cuban_restaurant',\n",
    "    'delicatessen',\n",
    "    'dim_sum_restaurant',\n",
    "    'diy_foods_restaurant',\n",
    "    'dominican_restaurant',\n",
    "    'donuts',\n",
    "    'dumpling_restaurant',\n",
    "    'eastern_european_restaurant',\n",
    "    'ecuadorian_restaurant',\n",
    "    'egyptian_restaurant',\n",
    "    'ethiopian_restaurant',\n",
    "    'filipino_restaurant',\n",
    "    'french_restaurant',\n",
    "    'frozen_yogurt_shop',\n",
    "    'fusion_restaurant',\n",
    "    'gastropub_restaurant',\n",
    "    'georgian_restaurant',\n",
    "    'german_restaurant',\n",
    "    'gluten_free_restaurant',\n",
    "    'greek_restaurant',\n",
    "    'grocery_store',\n",
    "    'guatemalan_restaurant',\n",
    "    'haitian_restaurant',\n",
    "    'hawaiian_restaurant',\n",
    "    'himalayan_restaurant',\n",
    "    'honduran_restaurant',\n",
    "    'hot_dog_restaurant',\n",
    "    'hungarian_restaurant',\n",
    "    'ice_cream_shop',\n",
    "    'indian_restaurant',\n",
    "    'indonesian_restaurant',\n",
    "    'irish_restaurant',\n",
    "    'italian_restaurant',\n",
    "    'jamaican_restaurant',\n",
    "    'japanese_restaurant',\n",
    "    'juice_shop',\n",
    "    'korean_restaurant',\n",
    "    'kosher_restaurant',\n",
    "    'laotian_restaurant',\n",
    "    'latin_american_restaurant',\n",
    "    'lebanese_restaurant',\n",
    "    'malaysian_restaurant',\n",
    "    'mediterranean_restaurant',\n",
    "    'mexican_restaurant',\n",
    "    'middle_eastern_restaurant',\n",
    "    'modern_european_restaurant',\n",
    "    'mongolian_restaurant',\n",
    "    'moroccan_restaurant',\n",
    "    'nepalese_restaurant',\n",
    "    'new_american_restaurant',\n",
    "    'nicaraguan_restaurant',\n",
    "    'pakistani_restaurant',\n",
    "    'pan_asian_restaurant',\n",
    "    'peruvian_restaurant',\n",
    "    'philippine_restaurant',\n",
    "    'pizza_restaurant',\n",
    "    'polish_restaurant',\n",
    "    'portuguese_restaurant',\n",
    "    'puerto_rican_restaurant',\n",
    "    'ramen_restaurant',\n",
    "    'raw_food_restaurant',\n",
    "    'romanian_restaurant',\n",
    "    'russian_restaurant',\n",
    "    'salad_restaurant',\n",
    "    'salvadoran_restaurant',\n",
    "    'sandwich_shop',\n",
    "    'scandinavian_restaurant',\n",
    "    'seafood_restaurant',\n",
    "    'singaporean_restaurant',\n",
    "    'slovak_restaurant',\n",
    "    'soul_food_restaurant',\n",
    "    'south_african_restaurant',\n",
    "    'south_american_restaurant',\n",
    "    'south_asian_restaurant',\n",
    "    'southeast_asian_restaurant',\n",
    "    'southern_restaurant',\n",
    "    'spanish_restaurant',\n",
    "    'steakhouse_restaurant',\n",
    "    'street_food_restaurant',\n",
    "    'supermarket',\n",
    "    'sushi_restaurant',\n",
    "    'syrian_restaurant',\n",
    "    'taiwanese_restaurant',\n",
    "    'tapas_restaurant',\n",
    "    'tex_mex_restaurant',\n",
    "    'thai_restaurant',\n",
    "    'turkish_restaurant',\n",
    "    'ukrainian_restaurant',\n",
    "    'uzbek_restaurant',\n",
    "    'vegan_restaurant',\n",
    "    'vegetarian_restaurant',\n",
    "    'venezuelan_restaurant',\n",
    "    'vietnamese_restaurant',\n",
    "    'waffle_shop',\n",
    "    'west_african_restaurant',\n",
    "    'wine_bar_restaurant',\n",
    "    'wrap_restaurant',\n",
    "    'yemenite_restaurant' )\"\"\",\n",
    "    location=LOCATION_BQ,\n",
    "    destination_table=f\"{PROJECT}.{DS}.{TBL}\",\n",
    "    write_disposition=WriteDisposition.WRITE_TRUNCATE,\n",
    ")"
   ]
  },
  {
   "cell_type": "code",
   "execution_count": null,
   "id": "fa96afeb",
   "metadata": {},
   "outputs": [
    {
     "data": {
      "text/plain": [
       "<google.api_core.operation.Operation at 0x2670abccc50>"
      ]
     },
     "execution_count": 17,
     "metadata": {},
     "output_type": "execute_result"
    }
   ],
   "source": [
    "import_documents_from_bigquery(\n",
    "    project_id=PROJECT,\n",
    "    location=LOCATION_DS,\n",
    "    data_store_id=DS_ID,\n",
    "    bq_project_id=PROJECT,\n",
    "    bq_dataset=DS,\n",
    "    bq_table=TBL,\n",
    "    data_schema=\"custom\",   # typical for structured/JSON\n",
    "    branch_id=\"default_branch\",\n",
    "    collection_id=COLL,\n",
    ")\n"
   ]
  },
  {
   "cell_type": "code",
   "execution_count": 8,
   "id": "7d51cbd2",
   "metadata": {},
   "outputs": [
    {
     "name": "stdout",
     "output_type": "stream",
     "text": [
      "name: \"projects/168027251845/locations/global/collections/default_collection/dataStores/poi-locations-ds\"\n",
      "display_name: \"POI Locations Datastore\"\n",
      "industry_vertical: GENERIC\n",
      "create_time {\n",
      "  seconds: 1757296842\n",
      "  nanos: 244138000\n",
      "}\n",
      "solution_types: SOLUTION_TYPE_SEARCH\n",
      "content_config: NO_CONTENT\n",
      "default_schema_id: \"default_schema\"\n",
      "billing_estimation {\n",
      "  structured_data_size: 34370740\n",
      "  structured_data_update_time {\n",
      "    seconds: 1757325407\n",
      "    nanos: 677847429\n",
      "  }\n",
      "}\n",
      "\n",
      "projects/168027251845/locations/global/collections/default_collection/dataStores/poi-locations-ds POI Locations Datastore\n"
     ]
    }
   ],
   "source": [
    "print(get_datastore(PROJECT, LOCATION_DS, DS_ID))\n",
    "for ds in list_datastores(PROJECT, LOCATION_DS, COLL):\n",
    "    print(ds.name, ds.display_name)"
   ]
  },
  {
   "cell_type": "code",
   "execution_count": 5,
   "id": "97565229",
   "metadata": {},
   "outputs": [
    {
     "ename": "AlreadyExists",
     "evalue": "409 ServingConfig with name \"projects/168027251845/locations/global/collections/default_collection/engines/geo-intents-engine/servingConfigs/default_search\" already exists.",
     "output_type": "error",
     "traceback": [
      "\u001b[31m---------------------------------------------------------------------------\u001b[39m",
      "\u001b[31m_InactiveRpcError\u001b[39m                         Traceback (most recent call last)",
      "\u001b[36mFile \u001b[39m\u001b[32m~\\AppData\\Local\\Packages\\PythonSoftwareFoundation.Python.3.11_qbz5n2kfra8p0\\LocalCache\\local-packages\\Python311\\site-packages\\google\\api_core\\grpc_helpers.py:76\u001b[39m, in \u001b[36m_wrap_unary_errors.<locals>.error_remapped_callable\u001b[39m\u001b[34m(*args, **kwargs)\u001b[39m\n\u001b[32m     75\u001b[39m \u001b[38;5;28;01mtry\u001b[39;00m:\n\u001b[32m---> \u001b[39m\u001b[32m76\u001b[39m     \u001b[38;5;28;01mreturn\u001b[39;00m \u001b[43mcallable_\u001b[49m\u001b[43m(\u001b[49m\u001b[43m*\u001b[49m\u001b[43margs\u001b[49m\u001b[43m,\u001b[49m\u001b[43m \u001b[49m\u001b[43m*\u001b[49m\u001b[43m*\u001b[49m\u001b[43mkwargs\u001b[49m\u001b[43m)\u001b[49m\n\u001b[32m     77\u001b[39m \u001b[38;5;28;01mexcept\u001b[39;00m grpc.RpcError \u001b[38;5;28;01mas\u001b[39;00m exc:\n",
      "\u001b[36mFile \u001b[39m\u001b[32m~\\AppData\\Local\\Packages\\PythonSoftwareFoundation.Python.3.11_qbz5n2kfra8p0\\LocalCache\\local-packages\\Python311\\site-packages\\grpc\\_interceptor.py:277\u001b[39m, in \u001b[36m_UnaryUnaryMultiCallable.__call__\u001b[39m\u001b[34m(self, request, timeout, metadata, credentials, wait_for_ready, compression)\u001b[39m\n\u001b[32m    268\u001b[39m \u001b[38;5;28;01mdef\u001b[39;00m\u001b[38;5;250m \u001b[39m\u001b[34m__call__\u001b[39m(\n\u001b[32m    269\u001b[39m     \u001b[38;5;28mself\u001b[39m,\n\u001b[32m    270\u001b[39m     request: Any,\n\u001b[32m   (...)\u001b[39m\u001b[32m    275\u001b[39m     compression: Optional[grpc.Compression] = \u001b[38;5;28;01mNone\u001b[39;00m,\n\u001b[32m    276\u001b[39m ) -> Any:\n\u001b[32m--> \u001b[39m\u001b[32m277\u001b[39m     response, ignored_call = \u001b[38;5;28;43mself\u001b[39;49m\u001b[43m.\u001b[49m\u001b[43m_with_call\u001b[49m\u001b[43m(\u001b[49m\n\u001b[32m    278\u001b[39m \u001b[43m        \u001b[49m\u001b[43mrequest\u001b[49m\u001b[43m,\u001b[49m\n\u001b[32m    279\u001b[39m \u001b[43m        \u001b[49m\u001b[43mtimeout\u001b[49m\u001b[43m=\u001b[49m\u001b[43mtimeout\u001b[49m\u001b[43m,\u001b[49m\n\u001b[32m    280\u001b[39m \u001b[43m        \u001b[49m\u001b[43mmetadata\u001b[49m\u001b[43m=\u001b[49m\u001b[43mmetadata\u001b[49m\u001b[43m,\u001b[49m\n\u001b[32m    281\u001b[39m \u001b[43m        \u001b[49m\u001b[43mcredentials\u001b[49m\u001b[43m=\u001b[49m\u001b[43mcredentials\u001b[49m\u001b[43m,\u001b[49m\n\u001b[32m    282\u001b[39m \u001b[43m        \u001b[49m\u001b[43mwait_for_ready\u001b[49m\u001b[43m=\u001b[49m\u001b[43mwait_for_ready\u001b[49m\u001b[43m,\u001b[49m\n\u001b[32m    283\u001b[39m \u001b[43m        \u001b[49m\u001b[43mcompression\u001b[49m\u001b[43m=\u001b[49m\u001b[43mcompression\u001b[49m\u001b[43m,\u001b[49m\n\u001b[32m    284\u001b[39m \u001b[43m    \u001b[49m\u001b[43m)\u001b[49m\n\u001b[32m    285\u001b[39m     \u001b[38;5;28;01mreturn\u001b[39;00m response\n",
      "\u001b[36mFile \u001b[39m\u001b[32m~\\AppData\\Local\\Packages\\PythonSoftwareFoundation.Python.3.11_qbz5n2kfra8p0\\LocalCache\\local-packages\\Python311\\site-packages\\grpc\\_interceptor.py:332\u001b[39m, in \u001b[36m_UnaryUnaryMultiCallable._with_call\u001b[39m\u001b[34m(self, request, timeout, metadata, credentials, wait_for_ready, compression)\u001b[39m\n\u001b[32m    329\u001b[39m call = \u001b[38;5;28mself\u001b[39m._interceptor.intercept_unary_unary(\n\u001b[32m    330\u001b[39m     continuation, client_call_details, request\n\u001b[32m    331\u001b[39m )\n\u001b[32m--> \u001b[39m\u001b[32m332\u001b[39m \u001b[38;5;28;01mreturn\u001b[39;00m \u001b[43mcall\u001b[49m\u001b[43m.\u001b[49m\u001b[43mresult\u001b[49m\u001b[43m(\u001b[49m\u001b[43m)\u001b[49m, call\n",
      "\u001b[36mFile \u001b[39m\u001b[32m~\\AppData\\Local\\Packages\\PythonSoftwareFoundation.Python.3.11_qbz5n2kfra8p0\\LocalCache\\local-packages\\Python311\\site-packages\\grpc\\_channel.py:440\u001b[39m, in \u001b[36m_InactiveRpcError.result\u001b[39m\u001b[34m(self, timeout)\u001b[39m\n\u001b[32m    439\u001b[39m \u001b[38;5;250m\u001b[39m\u001b[33;03m\"\"\"See grpc.Future.result.\"\"\"\u001b[39;00m\n\u001b[32m--> \u001b[39m\u001b[32m440\u001b[39m \u001b[38;5;28;01mraise\u001b[39;00m \u001b[38;5;28mself\u001b[39m\n",
      "\u001b[36mFile \u001b[39m\u001b[32m~\\AppData\\Local\\Packages\\PythonSoftwareFoundation.Python.3.11_qbz5n2kfra8p0\\LocalCache\\local-packages\\Python311\\site-packages\\grpc\\_interceptor.py:315\u001b[39m, in \u001b[36m_UnaryUnaryMultiCallable._with_call.<locals>.continuation\u001b[39m\u001b[34m(new_details, request)\u001b[39m\n\u001b[32m    314\u001b[39m \u001b[38;5;28;01mtry\u001b[39;00m:\n\u001b[32m--> \u001b[39m\u001b[32m315\u001b[39m     response, call = \u001b[38;5;28;43mself\u001b[39;49m\u001b[43m.\u001b[49m\u001b[43m_thunk\u001b[49m\u001b[43m(\u001b[49m\u001b[43mnew_method\u001b[49m\u001b[43m)\u001b[49m\u001b[43m.\u001b[49m\u001b[43mwith_call\u001b[49m\u001b[43m(\u001b[49m\n\u001b[32m    316\u001b[39m \u001b[43m        \u001b[49m\u001b[43mrequest\u001b[49m\u001b[43m,\u001b[49m\n\u001b[32m    317\u001b[39m \u001b[43m        \u001b[49m\u001b[43mtimeout\u001b[49m\u001b[43m=\u001b[49m\u001b[43mnew_timeout\u001b[49m\u001b[43m,\u001b[49m\n\u001b[32m    318\u001b[39m \u001b[43m        \u001b[49m\u001b[43mmetadata\u001b[49m\u001b[43m=\u001b[49m\u001b[43mnew_metadata\u001b[49m\u001b[43m,\u001b[49m\n\u001b[32m    319\u001b[39m \u001b[43m        \u001b[49m\u001b[43mcredentials\u001b[49m\u001b[43m=\u001b[49m\u001b[43mnew_credentials\u001b[49m\u001b[43m,\u001b[49m\n\u001b[32m    320\u001b[39m \u001b[43m        \u001b[49m\u001b[43mwait_for_ready\u001b[49m\u001b[43m=\u001b[49m\u001b[43mnew_wait_for_ready\u001b[49m\u001b[43m,\u001b[49m\n\u001b[32m    321\u001b[39m \u001b[43m        \u001b[49m\u001b[43mcompression\u001b[49m\u001b[43m=\u001b[49m\u001b[43mnew_compression\u001b[49m\u001b[43m,\u001b[49m\n\u001b[32m    322\u001b[39m \u001b[43m    \u001b[49m\u001b[43m)\u001b[49m\n\u001b[32m    323\u001b[39m     \u001b[38;5;28;01mreturn\u001b[39;00m _UnaryOutcome(response, call)\n",
      "\u001b[36mFile \u001b[39m\u001b[32m~\\AppData\\Local\\Packages\\PythonSoftwareFoundation.Python.3.11_qbz5n2kfra8p0\\LocalCache\\local-packages\\Python311\\site-packages\\grpc\\_channel.py:1192\u001b[39m, in \u001b[36m_UnaryUnaryMultiCallable.with_call\u001b[39m\u001b[34m(self, request, timeout, metadata, credentials, wait_for_ready, compression)\u001b[39m\n\u001b[32m   1189\u001b[39m state, call = \u001b[38;5;28mself\u001b[39m._blocking(\n\u001b[32m   1190\u001b[39m     request, timeout, metadata, credentials, wait_for_ready, compression\n\u001b[32m   1191\u001b[39m )\n\u001b[32m-> \u001b[39m\u001b[32m1192\u001b[39m \u001b[38;5;28;01mreturn\u001b[39;00m \u001b[43m_end_unary_response_blocking\u001b[49m\u001b[43m(\u001b[49m\u001b[43mstate\u001b[49m\u001b[43m,\u001b[49m\u001b[43m \u001b[49m\u001b[43mcall\u001b[49m\u001b[43m,\u001b[49m\u001b[43m \u001b[49m\u001b[38;5;28;43;01mTrue\u001b[39;49;00m\u001b[43m,\u001b[49m\u001b[43m \u001b[49m\u001b[38;5;28;43;01mNone\u001b[39;49;00m\u001b[43m)\u001b[49m\n",
      "\u001b[36mFile \u001b[39m\u001b[32m~\\AppData\\Local\\Packages\\PythonSoftwareFoundation.Python.3.11_qbz5n2kfra8p0\\LocalCache\\local-packages\\Python311\\site-packages\\grpc\\_channel.py:1006\u001b[39m, in \u001b[36m_end_unary_response_blocking\u001b[39m\u001b[34m(state, call, with_call, deadline)\u001b[39m\n\u001b[32m   1005\u001b[39m \u001b[38;5;28;01melse\u001b[39;00m:\n\u001b[32m-> \u001b[39m\u001b[32m1006\u001b[39m     \u001b[38;5;28;01mraise\u001b[39;00m _InactiveRpcError(state)\n",
      "\u001b[31m_InactiveRpcError\u001b[39m: <_InactiveRpcError of RPC that terminated with:\n\tstatus = StatusCode.ALREADY_EXISTS\n\tdetails = \"ServingConfig with name \"projects/168027251845/locations/global/collections/default_collection/engines/geo-intents-engine/servingConfigs/default_search\" already exists.\"\n\tdebug_error_string = \"UNKNOWN:Error received from peer ipv4:172.217.165.10:443 {grpc_status:6, grpc_message:\"ServingConfig with name \\\"projects/168027251845/locations/global/collections/default_collection/engines/geo-intents-engine/servingConfigs/default_search\\\" already exists.\"}\"\n>",
      "\nThe above exception was the direct cause of the following exception:\n",
      "\u001b[31mAlreadyExists\u001b[39m                             Traceback (most recent call last)",
      "\u001b[36mCell\u001b[39m\u001b[36m \u001b[39m\u001b[32mIn[5]\u001b[39m\u001b[32m, line 1\u001b[39m\n\u001b[32m----> \u001b[39m\u001b[32m1\u001b[39m engine = \u001b[43mcreate_engine\u001b[49m\u001b[43m(\u001b[49m\n\u001b[32m      2\u001b[39m \u001b[43m    \u001b[49m\u001b[43mproject_id\u001b[49m\u001b[43m=\u001b[49m\u001b[43mPROJECT\u001b[49m\u001b[43m,\u001b[49m\n\u001b[32m      3\u001b[39m \u001b[43m    \u001b[49m\u001b[43mlocation\u001b[49m\u001b[43m=\u001b[49m\u001b[43mLOCATION_DS\u001b[49m\u001b[43m,\u001b[49m\n\u001b[32m      4\u001b[39m \u001b[43m    \u001b[49m\u001b[43mengine_id\u001b[49m\u001b[43m=\u001b[49m\u001b[43mENGINE_ID\u001b[49m\u001b[43m,\u001b[49m\n\u001b[32m      5\u001b[39m \u001b[43m    \u001b[49m\u001b[43mdisplay_name\u001b[49m\u001b[43m=\u001b[49m\u001b[43mENGINE_DISPLAY_NAME\u001b[49m\u001b[43m,\u001b[49m\n\u001b[32m      6\u001b[39m \u001b[43m    \u001b[49m\u001b[43mdata_store_id\u001b[49m\u001b[43m=\u001b[49m\u001b[43mDS_ID\u001b[49m\u001b[43m,\u001b[49m\n\u001b[32m      7\u001b[39m \u001b[43m    \u001b[49m\u001b[43msolution_type\u001b[49m\u001b[43m=\u001b[49m\u001b[43mdiscoveryengine\u001b[49m\u001b[43m.\u001b[49m\u001b[43mSolutionType\u001b[49m\u001b[43m.\u001b[49m\u001b[43mSOLUTION_TYPE_SEARCH\u001b[49m\u001b[43m,\u001b[49m\n\u001b[32m      8\u001b[39m \u001b[43m    \u001b[49m\u001b[43msearch_tier\u001b[49m\u001b[43m=\u001b[49m\u001b[43mdiscoveryengine\u001b[49m\u001b[43m.\u001b[49m\u001b[43mSearchTier\u001b[49m\u001b[43m.\u001b[49m\u001b[43mSEARCH_TIER_STANDARD\u001b[49m\u001b[43m,\u001b[49m\n\u001b[32m      9\u001b[39m \u001b[43m    \u001b[49m\u001b[43msearch_add_ons\u001b[49m\u001b[43m=\u001b[49m\u001b[43m[\u001b[49m\u001b[43m]\u001b[49m\u001b[43m,\u001b[49m\n\u001b[32m     10\u001b[39m \u001b[43m)\u001b[49m\n",
      "\u001b[36mFile \u001b[39m\u001b[32mc:\\Users\\reube\\OneDrive\\Desktop\\Kaggle\\geo-intents\\geo-intents\\notebooks\\..\\app\\agents\\utils\\engine_manager.py:89\u001b[39m, in \u001b[36mcreate_engine\u001b[39m\u001b[34m(project_id, location, engine_id, display_name, data_store_id, collection_id, solution_type, industry_vertical, search_tier, search_add_ons)\u001b[39m\n\u001b[32m     83\u001b[39m \u001b[38;5;28;01mif\u001b[39;00m solution_type == discoveryengine.SolutionType.SOLUTION_TYPE_SEARCH:\n\u001b[32m     84\u001b[39m     engine.search_engine_config = discoveryengine.Engine.SearchEngineConfig(\n\u001b[32m     85\u001b[39m         search_tier=search_tier,\n\u001b[32m     86\u001b[39m         search_add_ons=\u001b[38;5;28mlist\u001b[39m(search_add_ons) \u001b[38;5;28;01mif\u001b[39;00m search_add_ons \u001b[38;5;28;01melse\u001b[39;00m \u001b[38;5;28;01mNone\u001b[39;00m,\n\u001b[32m     87\u001b[39m     )\n\u001b[32m---> \u001b[39m\u001b[32m89\u001b[39m op = \u001b[43mclient\u001b[49m\u001b[43m.\u001b[49m\u001b[43mcreate_engine\u001b[49m\u001b[43m(\u001b[49m\n\u001b[32m     90\u001b[39m \u001b[43m    \u001b[49m\u001b[43mrequest\u001b[49m\u001b[43m=\u001b[49m\u001b[43mdiscoveryengine\u001b[49m\u001b[43m.\u001b[49m\u001b[43mCreateEngineRequest\u001b[49m\u001b[43m(\u001b[49m\n\u001b[32m     91\u001b[39m \u001b[43m        \u001b[49m\u001b[43mparent\u001b[49m\u001b[43m=\u001b[49m\u001b[43mparent\u001b[49m\u001b[43m,\u001b[49m\n\u001b[32m     92\u001b[39m \u001b[43m        \u001b[49m\u001b[43mengine\u001b[49m\u001b[43m=\u001b[49m\u001b[43mengine\u001b[49m\u001b[43m,\u001b[49m\n\u001b[32m     93\u001b[39m \u001b[43m        \u001b[49m\u001b[43mengine_id\u001b[49m\u001b[43m=\u001b[49m\u001b[43mengine_id\u001b[49m\u001b[43m,\u001b[49m\n\u001b[32m     94\u001b[39m \u001b[43m    \u001b[49m\u001b[43m)\u001b[49m\n\u001b[32m     95\u001b[39m \u001b[43m\u001b[49m\u001b[43m)\u001b[49m\n\u001b[32m     96\u001b[39m \u001b[38;5;28;01mreturn\u001b[39;00m op.result()\n",
      "\u001b[36mFile \u001b[39m\u001b[32m~\\AppData\\Local\\Packages\\PythonSoftwareFoundation.Python.3.11_qbz5n2kfra8p0\\LocalCache\\local-packages\\Python311\\site-packages\\google\\cloud\\discoveryengine_v1\\services\\engine_service\\client.py:890\u001b[39m, in \u001b[36mEngineServiceClient.create_engine\u001b[39m\u001b[34m(self, request, parent, engine, engine_id, retry, timeout, metadata)\u001b[39m\n\u001b[32m    887\u001b[39m \u001b[38;5;28mself\u001b[39m._validate_universe_domain()\n\u001b[32m    889\u001b[39m \u001b[38;5;66;03m# Send the request.\u001b[39;00m\n\u001b[32m--> \u001b[39m\u001b[32m890\u001b[39m response = \u001b[43mrpc\u001b[49m\u001b[43m(\u001b[49m\n\u001b[32m    891\u001b[39m \u001b[43m    \u001b[49m\u001b[43mrequest\u001b[49m\u001b[43m,\u001b[49m\n\u001b[32m    892\u001b[39m \u001b[43m    \u001b[49m\u001b[43mretry\u001b[49m\u001b[43m=\u001b[49m\u001b[43mretry\u001b[49m\u001b[43m,\u001b[49m\n\u001b[32m    893\u001b[39m \u001b[43m    \u001b[49m\u001b[43mtimeout\u001b[49m\u001b[43m=\u001b[49m\u001b[43mtimeout\u001b[49m\u001b[43m,\u001b[49m\n\u001b[32m    894\u001b[39m \u001b[43m    \u001b[49m\u001b[43mmetadata\u001b[49m\u001b[43m=\u001b[49m\u001b[43mmetadata\u001b[49m\u001b[43m,\u001b[49m\n\u001b[32m    895\u001b[39m \u001b[43m\u001b[49m\u001b[43m)\u001b[49m\n\u001b[32m    897\u001b[39m \u001b[38;5;66;03m# Wrap the response in an operation future.\u001b[39;00m\n\u001b[32m    898\u001b[39m response = operation.from_gapic(\n\u001b[32m    899\u001b[39m     response,\n\u001b[32m    900\u001b[39m     \u001b[38;5;28mself\u001b[39m._transport.operations_client,\n\u001b[32m    901\u001b[39m     gcd_engine.Engine,\n\u001b[32m    902\u001b[39m     metadata_type=engine_service.CreateEngineMetadata,\n\u001b[32m    903\u001b[39m )\n",
      "\u001b[36mFile \u001b[39m\u001b[32m~\\AppData\\Local\\Packages\\PythonSoftwareFoundation.Python.3.11_qbz5n2kfra8p0\\LocalCache\\local-packages\\Python311\\site-packages\\google\\api_core\\gapic_v1\\method.py:131\u001b[39m, in \u001b[36m_GapicCallable.__call__\u001b[39m\u001b[34m(self, timeout, retry, compression, *args, **kwargs)\u001b[39m\n\u001b[32m    128\u001b[39m \u001b[38;5;28;01mif\u001b[39;00m \u001b[38;5;28mself\u001b[39m._compression \u001b[38;5;129;01mis\u001b[39;00m \u001b[38;5;129;01mnot\u001b[39;00m \u001b[38;5;28;01mNone\u001b[39;00m:\n\u001b[32m    129\u001b[39m     kwargs[\u001b[33m\"\u001b[39m\u001b[33mcompression\u001b[39m\u001b[33m\"\u001b[39m] = compression\n\u001b[32m--> \u001b[39m\u001b[32m131\u001b[39m \u001b[38;5;28;01mreturn\u001b[39;00m \u001b[43mwrapped_func\u001b[49m\u001b[43m(\u001b[49m\u001b[43m*\u001b[49m\u001b[43margs\u001b[49m\u001b[43m,\u001b[49m\u001b[43m \u001b[49m\u001b[43m*\u001b[49m\u001b[43m*\u001b[49m\u001b[43mkwargs\u001b[49m\u001b[43m)\u001b[49m\n",
      "\u001b[36mFile \u001b[39m\u001b[32m~\\AppData\\Local\\Packages\\PythonSoftwareFoundation.Python.3.11_qbz5n2kfra8p0\\LocalCache\\local-packages\\Python311\\site-packages\\google\\api_core\\grpc_helpers.py:78\u001b[39m, in \u001b[36m_wrap_unary_errors.<locals>.error_remapped_callable\u001b[39m\u001b[34m(*args, **kwargs)\u001b[39m\n\u001b[32m     76\u001b[39m     \u001b[38;5;28;01mreturn\u001b[39;00m callable_(*args, **kwargs)\n\u001b[32m     77\u001b[39m \u001b[38;5;28;01mexcept\u001b[39;00m grpc.RpcError \u001b[38;5;28;01mas\u001b[39;00m exc:\n\u001b[32m---> \u001b[39m\u001b[32m78\u001b[39m     \u001b[38;5;28;01mraise\u001b[39;00m exceptions.from_grpc_error(exc) \u001b[38;5;28;01mfrom\u001b[39;00m\u001b[38;5;250m \u001b[39m\u001b[34;01mexc\u001b[39;00m\n",
      "\u001b[31mAlreadyExists\u001b[39m: 409 ServingConfig with name \"projects/168027251845/locations/global/collections/default_collection/engines/geo-intents-engine/servingConfigs/default_search\" already exists."
     ]
    }
   ],
   "source": [
    "engine = create_engine(\n",
    "    project_id=PROJECT,\n",
    "    location=LOCATION_DS,\n",
    "    engine_id=ENGINE_ID,\n",
    "    display_name=ENGINE_DISPLAY_NAME,\n",
    "    data_store_id=DS_ID,\n",
    "    solution_type=discoveryengine.SolutionType.SOLUTION_TYPE_SEARCH,\n",
    "    search_tier=discoveryengine.SearchTier.SEARCH_TIER_STANDARD,\n",
    "    search_add_ons=[],\n",
    ")"
   ]
  },
  {
   "cell_type": "code",
   "execution_count": 13,
   "id": "b1f19daa",
   "metadata": {},
   "outputs": [
    {
     "name": "stdout",
     "output_type": "stream",
     "text": [
      "name: \"projects/168027251845/locations/global/collections/default_collection/engines/geo-intents-engine\"\n",
      "display_name: \"Geo Intents Engine\"\n",
      "data_store_ids: \"poi-locations-ds\"\n",
      "solution_type: SOLUTION_TYPE_SEARCH\n",
      "search_engine_config {\n",
      "  search_tier: SEARCH_TIER_STANDARD\n",
      "}\n",
      "industry_vertical: GENERIC\n",
      "\n",
      "projects/168027251845/locations/global/collections/default_collection/engines/geo-intents-engine Geo Intents Engine\n"
     ]
    }
   ],
   "source": [
    "print(get_engine(PROJECT, LOCATION_DS, ENGINE_ID, COLL))\n",
    "for eng in list_engines(PROJECT, LOCATION_DS, COLL):\n",
    "    print(eng.name, eng.display_name)"
   ]
  },
  {
   "cell_type": "code",
   "execution_count": 5,
   "id": "525cbc3e",
   "metadata": {},
   "outputs": [
    {
     "name": "stdout",
     "output_type": "stream",
     "text": [
      "{'results': [{'id': '7d9047e6-2b9b-4c29-a2d4-7e03c6da0cdc', 'document': {'name': 'projects/168027251845/locations/global/collections/default_collection/dataStores/poi-locations-ds/branches/0/documents/7d9047e6-2b9b-4c29-a2d4-7e03c6da0cdc', 'id': '7d9047e6-2b9b-4c29-a2d4-7e03c6da0cdc', 'structData': {'country': 'US', 'bbox': {'ymax': 33.52400207519531, 'xmax': -117.1617431640625, 'xmin': -117.16175842285156, 'ymin': 33.52399826049805}, 'name': 'Starbucks', 'street_address': '41195 Winchester Rd', 'region': 'CA', 'geometry': 'POINT(-117.1617437 33.5239996)', 'postcode': '92591-6001', 'locality': 'Temecula', 'category': 'cafe', 'brand': 'Starbucks'}, 'derivedStructData': {'is_exact_match_query': 0, 'can_fetch_raw_content': 'true'}}, 'rankSignals': {'semanticSimilarityScore': 0.69349927, 'topicalityRank': 1, 'boostingFactor': 0, 'defaultRank': 1}}, {'id': 'd9e55359-5cdd-4639-a9d4-71238246c52b', 'document': {'name': 'projects/168027251845/locations/global/collections/default_collection/dataStores/poi-locations-ds/branches/0/documents/d9e55359-5cdd-4639-a9d4-71238246c52b', 'id': 'd9e55359-5cdd-4639-a9d4-71238246c52b', 'structData': {'country': 'US', 'bbox': {'ymax': 38.45817184448242, 'ymin': 38.45816421508789, 'xmax': -121.8392562866211, 'xmin': -121.83927154541016}, 'geometry': 'POINT(-121.83926 38.45817)', 'region': 'CA', 'name': 'Dixon Safeway Starbucks 1258', 'category': 'grocery_store', 'postcode': '95620-2023', 'street_address': '1258 Stratford Ave', 'locality': 'Dixon'}, 'derivedStructData': {'is_exact_match_query': 0, 'can_fetch_raw_content': 'true'}}, 'rankSignals': {'semanticSimilarityScore': 0.67508525, 'topicalityRank': 2, 'boostingFactor': 0, 'defaultRank': 2}}, {'id': '22b7de78-cf2e-4933-a315-244da1a27b4a', 'document': {'name': 'projects/168027251845/locations/global/collections/default_collection/dataStores/poi-locations-ds/branches/0/documents/22b7de78-cf2e-4933-a315-244da1a27b4a', 'id': '22b7de78-cf2e-4933-a315-244da1a27b4a', 'structData': {'region': 'CA', 'bbox': {'ymax': 37.32072067260742, 'xmin': -122.04562377929688, 'ymin': 37.320716857910156, 'xmax': -122.04560852050781}, 'postcode': '95014-5702', 'street_address': '21250 Stevens Creek Blvd', 'name': 'Power Cup Coffee', 'category': 'cafe', 'geometry': 'POINT(-122.0456224 37.3207171)', 'country': 'US', 'locality': 'Cupertino'}, 'derivedStructData': {'can_fetch_raw_content': 'true', 'is_exact_match_query': 0}}, 'rankSignals': {'semanticSimilarityScore': 0.6444068, 'topicalityRank': 73, 'boostingFactor': 0, 'defaultRank': 3}}, {'id': '54551408-85fe-4ecd-bdd2-1dd37b367138', 'document': {'name': 'projects/168027251845/locations/global/collections/default_collection/dataStores/poi-locations-ds/branches/0/documents/54551408-85fe-4ecd-bdd2-1dd37b367138', 'id': '54551408-85fe-4ecd-bdd2-1dd37b367138', 'structData': {'region': 'CA', 'bbox': {'xmax': -122.0400619506836, 'xmin': -122.04007720947266, 'ymax': 37.3235969543457, 'ymin': 37.32359313964844}, 'street_address': '20955 Stevens Creek Blvd', 'postcode': '95014', 'locality': 'Cupertino', 'name': 'WFM Coffee Bar', 'geometry': 'POINT(-122.0400736 37.3235938)', 'country': 'US', 'category': 'supermarket'}, 'derivedStructData': {'can_fetch_raw_content': 'true', 'is_exact_match_query': 0}}, 'rankSignals': {'semanticSimilarityScore': 0.6438047, 'topicalityRank': 59, 'boostingFactor': 0, 'defaultRank': 4}}, {'id': 'f1257e3b-f904-4ef8-9b3c-9c0215cb1c64', 'document': {'name': 'projects/168027251845/locations/global/collections/default_collection/dataStores/poi-locations-ds/branches/0/documents/f1257e3b-f904-4ef8-9b3c-9c0215cb1c64', 'id': 'f1257e3b-f904-4ef8-9b3c-9c0215cb1c64', 'structData': {'name': 'Allegro Coffee Company', 'category': 'cafe', 'locality': 'San Francisco', 'bbox': {'xmin': -122.45294952392578, 'xmax': -122.45293426513672, 'ymin': 37.76951599121094, 'ymax': 37.76952362060547}, 'postcode': '94117-1863', 'region': 'CA', 'geometry': 'POINT(-122.452936 37.769522)', 'country': 'US', 'street_address': '690 Stanyan St', 'brand': 'Allegro Coffee Company'}, 'derivedStructData': {'is_exact_match_query': 0, 'can_fetch_raw_content': 'true'}}, 'rankSignals': {'semanticSimilarityScore': 0.64138263, 'topicalityRank': 12, 'boostingFactor': 0, 'defaultRank': 5}}, {'id': 'f9c47889-70b2-44ea-a612-7ce1b3f60930', 'document': {'name': 'projects/168027251845/locations/global/collections/default_collection/dataStores/poi-locations-ds/branches/0/documents/f9c47889-70b2-44ea-a612-7ce1b3f60930', 'id': 'f9c47889-70b2-44ea-a612-7ce1b3f60930', 'structData': {'postcode': '90010', 'bbox': {'xmax': -118.30231475830078, 'xmin': -118.30233001708984, 'ymin': 34.06121063232422, 'ymax': 34.061214447021484}, 'category': 'cafe', 'region': 'CA', 'locality': 'Los Angeles', 'street_address': '3550 Wilshire Blvd Ste 1520', 'country': 'US', 'name': 'Barista Lab', 'geometry': 'POINT(-118.30233 34.061214)'}, 'derivedStructData': {'is_exact_match_query': 0, 'can_fetch_raw_content': 'true'}}, 'rankSignals': {'semanticSimilarityScore': 0.6404522, 'topicalityRank': 53, 'boostingFactor': 0, 'defaultRank': 6}}, {'id': '133b01a3-d015-46b3-8ffb-be3aafb72aff', 'document': {'name': 'projects/168027251845/locations/global/collections/default_collection/dataStores/poi-locations-ds/branches/0/documents/133b01a3-d015-46b3-8ffb-be3aafb72aff', 'id': '133b01a3-d015-46b3-8ffb-be3aafb72aff', 'structData': {'geometry': 'POINT(-118.0523138 34.1353383)', 'street_address': '400 S Baldwin Ave', 'postcode': '91007-1900', 'region': 'CA', 'country': 'US', 'category': 'cafe', 'bbox': {'ymin': 34.135337829589844, 'xmin': -118.05231475830078, 'xmax': -118.05229949951172, 'ymax': 34.13534164428711}, 'locality': 'Arcadia', 'name': 'Nordstrom Ebar Artisan Coffee'}, 'derivedStructData': {'is_exact_match_query': 0, 'can_fetch_raw_content': 'true'}}, 'rankSignals': {'semanticSimilarityScore': 0.6400169, 'topicalityRank': 32, 'boostingFactor': 0, 'defaultRank': 7}}, {'id': '25c4cfac-938e-406f-9a7a-6aa1c136c568', 'document': {'name': 'projects/168027251845/locations/global/collections/default_collection/dataStores/poi-locations-ds/branches/0/documents/25c4cfac-938e-406f-9a7a-6aa1c136c568', 'id': '25c4cfac-938e-406f-9a7a-6aa1c136c568', 'structData': {'category': 'american_restaurant', 'region': 'CA', 'geometry': 'POINT(-122.0580894 37.8969088)', 'name': 'Nordstrom Ebar Artisan Coffee', 'street_address': '1200 Broadway Plz', 'country': 'US', 'bbox': {'xmax': -122.05807495117188, 'xmin': -122.05809020996094, 'ymin': 37.896907806396484, 'ymax': 37.89691162109375}, 'locality': 'Walnut Creek', 'postcode': '94596-5129'}, 'derivedStructData': {'can_fetch_raw_content': 'true', 'is_exact_match_query': 0}}, 'rankSignals': {'semanticSimilarityScore': 0.6382126, 'topicalityRank': 45, 'boostingFactor': 0, 'defaultRank': 8}}, {'id': '272138b1-0387-4fe8-810f-77610c38df01', 'document': {'name': 'projects/168027251845/locations/global/collections/default_collection/dataStores/poi-locations-ds/branches/0/documents/272138b1-0387-4fe8-810f-77610c38df01', 'id': '272138b1-0387-4fe8-810f-77610c38df01', 'structData': {'category': 'cafe', 'street_address': '19501 Stevens Creek Blvd', 'geometry': 'POINT(-122.0123143 37.3231287)', 'name': 'Cafe Lattea', 'locality': 'Cupertino', 'country': 'US', 'bbox': {'xmin': -122.0123291015625, 'ymax': 37.3231315612793, 'xmax': -122.01231384277344, 'ymin': 37.32312774658203}, 'postcode': '95014-2468', 'region': 'CA'}, 'derivedStructData': {'can_fetch_raw_content': 'true', 'is_exact_match_query': 0}}, 'rankSignals': {'semanticSimilarityScore': 0.63742304, 'topicalityRank': 90, 'boostingFactor': 0, 'defaultRank': 9}}, {'id': 'aa6bba66-1894-4e92-8a51-7292f7102842', 'document': {'name': 'projects/168027251845/locations/global/collections/default_collection/dataStores/poi-locations-ds/branches/0/documents/aa6bba66-1894-4e92-8a51-7292f7102842', 'id': 'aa6bba66-1894-4e92-8a51-7292f7102842', 'structData': {'bbox': {'ymax': 33.91581344604492, 'xmax': -117.88816833496094, 'ymin': 33.915809631347656, 'xmin': -117.88818359375}, 'street_address': '500 Brea Mall', 'category': 'cafe', 'name': 'Nordstrom Ebar Artisan Coffee', 'region': 'CA', 'geometry': 'POINT(-117.8881801 33.9158131)', 'country': 'US', 'postcode': '92821-5763', 'locality': 'Brea'}, 'derivedStructData': {'can_fetch_raw_content': 'true', 'is_exact_match_query': 0}}, 'rankSignals': {'semanticSimilarityScore': 0.63190895, 'topicalityRank': 51, 'boostingFactor': 0, 'defaultRank': 10}}], 'totalSize': 91, 'attributionToken': 'iQL0CAEKDAjguP7FBhCn1cjFAxIkNjhjYjljM2MtMDAwMC0yYTRjLTlmOTEtZDQzYTJjYzU4NTVmIgdHRU5FUklDKkiQ97IwnNa3LcLwnhWf1rctlZLFMLuR-jG-kfox1LKdFY6-nRW2t4wt0NqJN8XL8xfT2ok3jpHJMODrkDfj65A3tqqiMrmqojIwAVJ-cHJvamVjdHMvMTY4MDI3MjUxODQ1L2xvY2F0aW9ucy9nbG9iYWwvY29sbGVjdGlvbnMvZGVmYXVsdF9jb2xsZWN0aW9uL2VuZ2luZXMvZ2VvLWludGVudHMtZW5naW5lL3NlcnZpbmdDb25maWdzL2RlZmF1bHRfc2VhcmNo', 'nextPageToken': 'gZ1UDO1M2YyE2M0QWLxkjZ50yY0EmMtADMwATLiNzY5I2Y4YDJaUB812LEGYsjhGOCLIBMxIgC', 'guidedSearchResult': {}, 'summary': {}, 'queryExpansionInfo': {}}\n"
     ]
    }
   ],
   "source": [
    "client = DiscoverySearchClient(\n",
    "    project_id=PROJECT,\n",
    "    engine_id=ENGINE_ID,\n",
    ")\n",
    "\n",
    "# Simple search\n",
    "results = client.search(\"starbucks\")\n",
    "print(results)\n"
   ]
  },
  {
   "cell_type": "code",
   "execution_count": null,
   "id": "c2d184ab",
   "metadata": {},
   "outputs": [
    {
     "ename": "HTTPError",
     "evalue": "400 Client Error: Bad Request for url: https://discoveryengine.googleapis.com/v1alpha/projects/kaggle-hackathon-471317/locations/global/collections/default_collection/engines/geo-intents-engine/servingConfigs/default_search:search",
     "output_type": "error",
     "traceback": [
      "\u001b[31m---------------------------------------------------------------------------\u001b[39m",
      "\u001b[31mHTTPError\u001b[39m                                 Traceback (most recent call last)",
      "\u001b[36mCell\u001b[39m\u001b[36m \u001b[39m\u001b[32mIn[16]\u001b[39m\u001b[32m, line 3\u001b[39m\n\u001b[32m      1\u001b[39m results\n\u001b[32m      2\u001b[39m \u001b[38;5;66;03m# Search with additional params (filters, facets, boosting)\u001b[39;00m\n\u001b[32m----> \u001b[39m\u001b[32m3\u001b[39m advanced_results = \u001b[43mclient\u001b[49m\u001b[43m.\u001b[49m\u001b[43msearch\u001b[49m\u001b[43m(\u001b[49m\n\u001b[32m      4\u001b[39m \u001b[43m    \u001b[49m\u001b[33;43m\"\u001b[39;49m\u001b[33;43mcoffee\u001b[39;49m\u001b[33;43m\"\u001b[39;49m\u001b[43m,\u001b[49m\n\u001b[32m      5\u001b[39m \u001b[43m    \u001b[49m\u001b[38;5;28;43mfilter\u001b[39;49m\u001b[43m=\u001b[49m\u001b[33;43m'\u001b[39;49m\u001b[33;43mcategory: ANY(\u001b[39;49m\u001b[33;43m\"\u001b[39;49m\u001b[33;43mcafe\u001b[39;49m\u001b[33;43m\"\u001b[39;49m\u001b[33;43m)\u001b[39;49m\u001b[33;43m'\u001b[39;49m\u001b[43m,\u001b[49m\n\u001b[32m      6\u001b[39m \u001b[43m    \u001b[49m\u001b[43mfacetSpecs\u001b[49m\u001b[43m=\u001b[49m\u001b[43m \u001b[49m\u001b[43m[\u001b[49m\n\u001b[32m      7\u001b[39m \u001b[43m    \u001b[49m\u001b[43m{\u001b[49m\u001b[43m \u001b[49m\u001b[33;43m\"\u001b[39;49m\u001b[33;43mfacetKey\u001b[39;49m\u001b[33;43m\"\u001b[39;49m\u001b[43m:\u001b[49m\u001b[43m \u001b[49m\u001b[43m{\u001b[49m\u001b[43m \u001b[49m\u001b[33;43m\"\u001b[39;49m\u001b[33;43mkey\u001b[39;49m\u001b[33;43m\"\u001b[39;49m\u001b[43m:\u001b[49m\u001b[43m \u001b[49m\u001b[33;43m\"\u001b[39;49m\u001b[33;43mbrand\u001b[39;49m\u001b[33;43m\"\u001b[39;49m\u001b[43m \u001b[49m\u001b[43m}\u001b[49m\u001b[43m,\u001b[49m\u001b[43m \u001b[49m\u001b[33;43m\"\u001b[39;49m\u001b[33;43mlimit\u001b[39;49m\u001b[33;43m\"\u001b[39;49m\u001b[43m:\u001b[49m\u001b[43m \u001b[49m\u001b[32;43m10\u001b[39;49m\u001b[43m \u001b[49m\u001b[43m}\u001b[49m\n\u001b[32m      8\u001b[39m \u001b[43m  \u001b[49m\u001b[43m]\u001b[49m\u001b[43m,\u001b[49m\n\u001b[32m      9\u001b[39m \u001b[43m  \u001b[49m\u001b[43mboostSpec\u001b[49m\u001b[43m=\u001b[49m\u001b[43m{\u001b[49m\n\u001b[32m     10\u001b[39m \u001b[43m            \u001b[49m\u001b[33;43m\"\u001b[39;49m\u001b[33;43mconditionBoostSpecs\u001b[39;49m\u001b[33;43m\"\u001b[39;49m\u001b[43m:\u001b[49m\u001b[43m \u001b[49m\u001b[43m[\u001b[49m\n\u001b[32m     11\u001b[39m \u001b[43m                \u001b[49m\u001b[43m{\u001b[49m\u001b[33;43m\"\u001b[39;49m\u001b[33;43mcondition\u001b[39;49m\u001b[33;43m\"\u001b[39;49m\u001b[43m:\u001b[49m\u001b[43m \u001b[49m\u001b[33;43m'\u001b[39;49m\u001b[33;43mname ANY(\u001b[39;49m\u001b[33;43m\"\u001b[39;49m\u001b[33;43mstarbucks\u001b[39;49m\u001b[33;43m\"\u001b[39;49m\u001b[33;43m)\u001b[39;49m\u001b[33;43m'\u001b[39;49m\u001b[43m,\u001b[49m\u001b[43m \u001b[49m\u001b[33;43m\"\u001b[39;49m\u001b[33;43mboost\u001b[39;49m\u001b[33;43m\"\u001b[39;49m\u001b[43m:\u001b[49m\u001b[43m \u001b[49m\u001b[32;43m2.0\u001b[39;49m\u001b[43m}\u001b[49m\n\u001b[32m     12\u001b[39m \u001b[43m            \u001b[49m\u001b[43m]\u001b[49m\n\u001b[32m     13\u001b[39m \u001b[43m        \u001b[49m\u001b[43m}\u001b[49m\n\u001b[32m     14\u001b[39m \u001b[43m  \u001b[49m\u001b[43m)\u001b[49m\n\u001b[32m     15\u001b[39m \u001b[38;5;28mprint\u001b[39m(advanced_results)\n",
      "\u001b[36mFile \u001b[39m\u001b[32mc:\\Users\\reube\\OneDrive\\Desktop\\Kaggle\\geo-intents\\geo-intents\\notebooks\\..\\app\\agents\\utils\\discovery_search.py:77\u001b[39m, in \u001b[36mDiscoverySearchClient.search\u001b[39m\u001b[34m(self, query, page_size, time_zone, **kwargs)\u001b[39m\n\u001b[32m     71\u001b[39m headers = {\n\u001b[32m     72\u001b[39m     \u001b[33m\"\u001b[39m\u001b[33mAuthorization\u001b[39m\u001b[33m\"\u001b[39m: \u001b[33mf\u001b[39m\u001b[33m\"\u001b[39m\u001b[33mBearer \u001b[39m\u001b[38;5;132;01m{\u001b[39;00m\u001b[38;5;28mself\u001b[39m._get_access_token()\u001b[38;5;132;01m}\u001b[39;00m\u001b[33m\"\u001b[39m,\n\u001b[32m     73\u001b[39m     \u001b[33m\"\u001b[39m\u001b[33mContent-Type\u001b[39m\u001b[33m\"\u001b[39m: \u001b[33m\"\u001b[39m\u001b[33mapplication/json\u001b[39m\u001b[33m\"\u001b[39m,\n\u001b[32m     74\u001b[39m }\n\u001b[32m     76\u001b[39m response = requests.post(url, headers=headers, data=json.dumps(payload))\n\u001b[32m---> \u001b[39m\u001b[32m77\u001b[39m \u001b[43mresponse\u001b[49m\u001b[43m.\u001b[49m\u001b[43mraise_for_status\u001b[49m\u001b[43m(\u001b[49m\u001b[43m)\u001b[49m\n\u001b[32m     78\u001b[39m \u001b[38;5;28;01mreturn\u001b[39;00m response.json()\n",
      "\u001b[36mFile \u001b[39m\u001b[32m~\\AppData\\Local\\Packages\\PythonSoftwareFoundation.Python.3.11_qbz5n2kfra8p0\\LocalCache\\local-packages\\Python311\\site-packages\\requests\\models.py:1026\u001b[39m, in \u001b[36mResponse.raise_for_status\u001b[39m\u001b[34m(self)\u001b[39m\n\u001b[32m   1021\u001b[39m     http_error_msg = (\n\u001b[32m   1022\u001b[39m         \u001b[33mf\u001b[39m\u001b[33m\"\u001b[39m\u001b[38;5;132;01m{\u001b[39;00m\u001b[38;5;28mself\u001b[39m.status_code\u001b[38;5;132;01m}\u001b[39;00m\u001b[33m Server Error: \u001b[39m\u001b[38;5;132;01m{\u001b[39;00mreason\u001b[38;5;132;01m}\u001b[39;00m\u001b[33m for url: \u001b[39m\u001b[38;5;132;01m{\u001b[39;00m\u001b[38;5;28mself\u001b[39m.url\u001b[38;5;132;01m}\u001b[39;00m\u001b[33m\"\u001b[39m\n\u001b[32m   1023\u001b[39m     )\n\u001b[32m   1025\u001b[39m \u001b[38;5;28;01mif\u001b[39;00m http_error_msg:\n\u001b[32m-> \u001b[39m\u001b[32m1026\u001b[39m     \u001b[38;5;28;01mraise\u001b[39;00m HTTPError(http_error_msg, response=\u001b[38;5;28mself\u001b[39m)\n",
      "\u001b[31mHTTPError\u001b[39m: 400 Client Error: Bad Request for url: https://discoveryengine.googleapis.com/v1alpha/projects/kaggle-hackathon-471317/locations/global/collections/default_collection/engines/geo-intents-engine/servingConfigs/default_search:search"
     ]
    }
   ],
   "source": [
    "results\n",
    "# Search with additional params (filters, facets, boosting)\n",
    "advanced_results = client.search(\n",
    "    \"coffee\",\n",
    "    filter='category: ANY(\"cafe\")',\n",
    "    facetSpecs= [\n",
    "    { \"facetKey\": { \"key\": \"brand\" }, \"limit\": 10 }\n",
    "  ],\n",
    "  boostSpec= {\n",
    "    \"conditionBoostSpecs\": {\n",
    "      \"condition\": 'category: ANY(\"cafe\")',\n",
    "      \"boost\": 0.7\n",
    "    }\n",
    "  }\n",
    "\n",
    "  )\n",
    "print(advanced_results)"
   ]
  },
  {
   "cell_type": "code",
   "execution_count": 5,
   "id": "15abaea4",
   "metadata": {},
   "outputs": [
    {
     "name": "stdout",
     "output_type": "stream",
     "text": [
      "{'id': '7d9047e6-2b9b-4c29-a2d4-7e03c6da0cdc', 'document': {'name': 'projects/168027251845/locations/global/collections/default_collection/dataStores/poi-locations-ds/branches/0/documents/7d9047e6-2b9b-4c29-a2d4-7e03c6da0cdc', 'id': '7d9047e6-2b9b-4c29-a2d4-7e03c6da0cdc', 'structData': {'geometry': 'POINT(-117.1617437 33.5239996)', 'bbox': {'ymax': 33.52400207519531, 'xmin': -117.16175842285156, 'ymin': 33.52399826049805, 'xmax': -117.1617431640625}, 'locality': 'Temecula', 'category': 'cafe', 'country': 'US', 'postcode': '92591-6001', 'street_address': '41195 Winchester Rd', 'region': 'CA', 'brand': 'Starbucks', 'name': 'Starbucks'}, 'derivedStructData': {'can_fetch_raw_content': 'true', 'is_exact_match_query': 0.0}}}\n"
     ]
    }
   ],
   "source": [
    "client = DiscoveryEngineSearch(\n",
    "    project_id=\"168027251845\",\n",
    "    engine_id=\"geo-intents-engine\",\n",
    "    location=\"global\",\n",
    ")\n",
    "\n",
    "res = client.search(\"starbucks\", page_size=5)\n",
    "# res[\"results\"][0] will look like the example you provided, including rankSignals.\n",
    "print(res[\"results\"][0])"
   ]
  },
  {
   "cell_type": "code",
   "execution_count": 4,
   "id": "a75bf274",
   "metadata": {},
   "outputs": [],
   "source": [
    "pager = search(\n",
    "project_id=PROJECT,\n",
    "location=LOCATION_DS,\n",
    "engine_id=ENGINE_ID,\n",
    "search_query=\"starbucks\",\n",
    ")"
   ]
  },
  {
   "cell_type": "code",
   "execution_count": null,
   "id": "bcec2962",
   "metadata": {},
   "outputs": [
    {
     "data": {
      "text/plain": [
       "{'results': [{'id': '7d9047e6-2b9b-4c29-a2d4-7e03c6da0cdc',\n",
       "   'document': {'name': 'projects/168027251845/locations/global/collections/default_collection/dataStores/poi-locations-ds/branches/0/documents/7d9047e6-2b9b-4c29-a2d4-7e03c6da0cdc',\n",
       "    'id': '7d9047e6-2b9b-4c29-a2d4-7e03c6da0cdc',\n",
       "    'structData': {'geometry': 'POINT(-117.1617437 33.5239996)',\n",
       "     'bbox': <proto.marshal.collections.maps.MapComposite at 0x2131b436b90>,\n",
       "     'locality': 'Temecula',\n",
       "     'category': 'cafe',\n",
       "     'country': 'US',\n",
       "     'postcode': '92591-6001',\n",
       "     'street_address': '41195 Winchester Rd',\n",
       "     'region': 'CA',\n",
       "     'brand': 'Starbucks',\n",
       "     'name': 'Starbucks'},\n",
       "    'derivedStructData': {'can_fetch_raw_content': 'true',\n",
       "     'snippets': [<proto.marshal.collections.maps.MapComposite object at 0x000002131B4C6F10>],\n",
       "     'is_exact_match_query': 0.0}},\n",
       "   'rankSignals': {'semanticSimilarityScore': None,\n",
       "    'topicalityRank': None,\n",
       "    'boostingFactor': None,\n",
       "    'defaultRank': None}},\n",
       "  {'id': 'd9e55359-5cdd-4639-a9d4-71238246c52b',\n",
       "   'document': {'name': 'projects/168027251845/locations/global/collections/default_collection/dataStores/poi-locations-ds/branches/0/documents/d9e55359-5cdd-4639-a9d4-71238246c52b',\n",
       "    'id': 'd9e55359-5cdd-4639-a9d4-71238246c52b',\n",
       "    'structData': {'bbox': <proto.marshal.collections.maps.MapComposite at 0x2131b4add10>,\n",
       "     'geometry': 'POINT(-121.83926 38.45817)',\n",
       "     'locality': 'Dixon',\n",
       "     'country': 'US',\n",
       "     'category': 'grocery_store',\n",
       "     'postcode': '95620-2023',\n",
       "     'street_address': '1258 Stratford Ave',\n",
       "     'region': 'CA',\n",
       "     'name': 'Dixon Safeway Starbucks 1258'},\n",
       "    'derivedStructData': {'can_fetch_raw_content': 'true',\n",
       "     'snippets': [<proto.marshal.collections.maps.MapComposite object at 0x000002131B4CC090>],\n",
       "     'is_exact_match_query': 0.0}},\n",
       "   'rankSignals': {'semanticSimilarityScore': None,\n",
       "    'topicalityRank': None,\n",
       "    'boostingFactor': None,\n",
       "    'defaultRank': None}},\n",
       "  {'id': '22b7de78-cf2e-4933-a315-244da1a27b4a',\n",
       "   'document': {'name': 'projects/168027251845/locations/global/collections/default_collection/dataStores/poi-locations-ds/branches/0/documents/22b7de78-cf2e-4933-a315-244da1a27b4a',\n",
       "    'id': '22b7de78-cf2e-4933-a315-244da1a27b4a',\n",
       "    'structData': {'geometry': 'POINT(-122.0456224 37.3207171)',\n",
       "     'bbox': <proto.marshal.collections.maps.MapComposite at 0x2131b4addd0>,\n",
       "     'locality': 'Cupertino',\n",
       "     'category': 'cafe',\n",
       "     'country': 'US',\n",
       "     'region': 'CA',\n",
       "     'street_address': '21250 Stevens Creek Blvd',\n",
       "     'postcode': '95014-5702',\n",
       "     'name': 'Power Cup Coffee'},\n",
       "    'derivedStructData': {'can_fetch_raw_content': 'true',\n",
       "     'snippets': [<proto.marshal.collections.maps.MapComposite object at 0x000002131B4CCB50>],\n",
       "     'is_exact_match_query': 0.0}},\n",
       "   'rankSignals': {'semanticSimilarityScore': None,\n",
       "    'topicalityRank': None,\n",
       "    'boostingFactor': None,\n",
       "    'defaultRank': None}},\n",
       "  {'id': '54551408-85fe-4ecd-bdd2-1dd37b367138',\n",
       "   'document': {'name': 'projects/168027251845/locations/global/collections/default_collection/dataStores/poi-locations-ds/branches/0/documents/54551408-85fe-4ecd-bdd2-1dd37b367138',\n",
       "    'id': '54551408-85fe-4ecd-bdd2-1dd37b367138',\n",
       "    'structData': {'bbox': <proto.marshal.collections.maps.MapComposite at 0x2131b4b8c90>,\n",
       "     'geometry': 'POINT(-122.0400736 37.3235938)',\n",
       "     'locality': 'Cupertino',\n",
       "     'category': 'supermarket',\n",
       "     'country': 'US',\n",
       "     'region': 'CA',\n",
       "     'street_address': '20955 Stevens Creek Blvd',\n",
       "     'postcode': '95014',\n",
       "     'name': 'WFM Coffee Bar'},\n",
       "    'derivedStructData': {'can_fetch_raw_content': 'true',\n",
       "     'snippets': [<proto.marshal.collections.maps.MapComposite object at 0x000002131B4CD710>],\n",
       "     'is_exact_match_query': 0.0}},\n",
       "   'rankSignals': {'semanticSimilarityScore': None,\n",
       "    'topicalityRank': None,\n",
       "    'boostingFactor': None,\n",
       "    'defaultRank': None}},\n",
       "  {'id': 'f1257e3b-f904-4ef8-9b3c-9c0215cb1c64',\n",
       "   'document': {'name': 'projects/168027251845/locations/global/collections/default_collection/dataStores/poi-locations-ds/branches/0/documents/f1257e3b-f904-4ef8-9b3c-9c0215cb1c64',\n",
       "    'id': 'f1257e3b-f904-4ef8-9b3c-9c0215cb1c64',\n",
       "    'structData': {'bbox': <proto.marshal.collections.maps.MapComposite at 0x2131b4b9290>,\n",
       "     'geometry': 'POINT(-122.452936 37.769522)',\n",
       "     'locality': 'San Francisco',\n",
       "     'category': 'cafe',\n",
       "     'country': 'US',\n",
       "     'region': 'CA',\n",
       "     'street_address': '690 Stanyan St',\n",
       "     'postcode': '94117-1863',\n",
       "     'brand': 'Allegro Coffee Company',\n",
       "     'name': 'Allegro Coffee Company'},\n",
       "    'derivedStructData': {'can_fetch_raw_content': 'true',\n",
       "     'snippets': [<proto.marshal.collections.maps.MapComposite object at 0x000002131B4CE490>],\n",
       "     'is_exact_match_query': 0.0}},\n",
       "   'rankSignals': {'semanticSimilarityScore': None,\n",
       "    'topicalityRank': None,\n",
       "    'boostingFactor': None,\n",
       "    'defaultRank': None}},\n",
       "  {'id': 'f9c47889-70b2-44ea-a612-7ce1b3f60930',\n",
       "   'document': {'name': 'projects/168027251845/locations/global/collections/default_collection/dataStores/poi-locations-ds/branches/0/documents/f9c47889-70b2-44ea-a612-7ce1b3f60930',\n",
       "    'id': 'f9c47889-70b2-44ea-a612-7ce1b3f60930',\n",
       "    'structData': {'geometry': 'POINT(-118.30233 34.061214)',\n",
       "     'bbox': <proto.marshal.collections.maps.MapComposite at 0x2131b4b9810>,\n",
       "     'locality': 'Los Angeles',\n",
       "     'country': 'US',\n",
       "     'category': 'cafe',\n",
       "     'region': 'CA',\n",
       "     'street_address': '3550 Wilshire Blvd Ste 1520',\n",
       "     'postcode': '90010',\n",
       "     'name': 'Barista Lab'},\n",
       "    'derivedStructData': {'can_fetch_raw_content': 'true',\n",
       "     'snippets': [<proto.marshal.collections.maps.MapComposite object at 0x000002131B4CF090>],\n",
       "     'is_exact_match_query': 0.0}},\n",
       "   'rankSignals': {'semanticSimilarityScore': None,\n",
       "    'topicalityRank': None,\n",
       "    'boostingFactor': None,\n",
       "    'defaultRank': None}},\n",
       "  {'id': '133b01a3-d015-46b3-8ffb-be3aafb72aff',\n",
       "   'document': {'name': 'projects/168027251845/locations/global/collections/default_collection/dataStores/poi-locations-ds/branches/0/documents/133b01a3-d015-46b3-8ffb-be3aafb72aff',\n",
       "    'id': '133b01a3-d015-46b3-8ffb-be3aafb72aff',\n",
       "    'structData': {'geometry': 'POINT(-118.0523138 34.1353383)',\n",
       "     'bbox': <proto.marshal.collections.maps.MapComposite at 0x2131b4b9d50>,\n",
       "     'locality': 'Arcadia',\n",
       "     'country': 'US',\n",
       "     'category': 'cafe',\n",
       "     'region': 'CA',\n",
       "     'street_address': '400 S Baldwin Ave',\n",
       "     'postcode': '91007-1900',\n",
       "     'name': 'Nordstrom Ebar Artisan Coffee'},\n",
       "    'derivedStructData': {'can_fetch_raw_content': 'true',\n",
       "     'snippets': [<proto.marshal.collections.maps.MapComposite object at 0x000002131B4CFC50>],\n",
       "     'is_exact_match_query': 0.0}},\n",
       "   'rankSignals': {'semanticSimilarityScore': None,\n",
       "    'topicalityRank': None,\n",
       "    'boostingFactor': None,\n",
       "    'defaultRank': None}},\n",
       "  {'id': '25c4cfac-938e-406f-9a7a-6aa1c136c568',\n",
       "   'document': {'name': 'projects/168027251845/locations/global/collections/default_collection/dataStores/poi-locations-ds/branches/0/documents/25c4cfac-938e-406f-9a7a-6aa1c136c568',\n",
       "    'id': '25c4cfac-938e-406f-9a7a-6aa1c136c568',\n",
       "    'structData': {'bbox': <proto.marshal.collections.maps.MapComposite at 0x2131b4ba250>,\n",
       "     'geometry': 'POINT(-122.0580894 37.8969088)',\n",
       "     'locality': 'Walnut Creek',\n",
       "     'category': 'american_restaurant',\n",
       "     'country': 'US',\n",
       "     'postcode': '94596-5129',\n",
       "     'street_address': '1200 Broadway Plz',\n",
       "     'region': 'CA',\n",
       "     'name': 'Nordstrom Ebar Artisan Coffee'},\n",
       "    'derivedStructData': {'can_fetch_raw_content': 'true',\n",
       "     'snippets': [<proto.marshal.collections.maps.MapComposite object at 0x000002131B4D4810>],\n",
       "     'is_exact_match_query': 0.0}},\n",
       "   'rankSignals': {'semanticSimilarityScore': None,\n",
       "    'topicalityRank': None,\n",
       "    'boostingFactor': None,\n",
       "    'defaultRank': None}},\n",
       "  {'id': '272138b1-0387-4fe8-810f-77610c38df01',\n",
       "   'document': {'name': 'projects/168027251845/locations/global/collections/default_collection/dataStores/poi-locations-ds/branches/0/documents/272138b1-0387-4fe8-810f-77610c38df01',\n",
       "    'id': '272138b1-0387-4fe8-810f-77610c38df01',\n",
       "    'structData': {'geometry': 'POINT(-122.0123143 37.3231287)',\n",
       "     'bbox': <proto.marshal.collections.maps.MapComposite at 0x2131b4ba710>,\n",
       "     'locality': 'Cupertino',\n",
       "     'category': 'cafe',\n",
       "     'country': 'US',\n",
       "     'region': 'CA',\n",
       "     'street_address': '19501 Stevens Creek Blvd',\n",
       "     'postcode': '95014-2468',\n",
       "     'name': 'Cafe Lattea'},\n",
       "    'derivedStructData': {'can_fetch_raw_content': 'true',\n",
       "     'snippets': [<proto.marshal.collections.maps.MapComposite object at 0x000002131B4D5410>],\n",
       "     'is_exact_match_query': 0.0}},\n",
       "   'rankSignals': {'semanticSimilarityScore': None,\n",
       "    'topicalityRank': None,\n",
       "    'boostingFactor': None,\n",
       "    'defaultRank': None}},\n",
       "  {'id': 'aa6bba66-1894-4e92-8a51-7292f7102842',\n",
       "   'document': {'name': 'projects/168027251845/locations/global/collections/default_collection/dataStores/poi-locations-ds/branches/0/documents/aa6bba66-1894-4e92-8a51-7292f7102842',\n",
       "    'id': 'aa6bba66-1894-4e92-8a51-7292f7102842',\n",
       "    'structData': {'bbox': <proto.marshal.collections.maps.MapComposite at 0x2131b4bac10>,\n",
       "     'geometry': 'POINT(-117.8881801 33.9158131)',\n",
       "     'locality': 'Brea',\n",
       "     'category': 'cafe',\n",
       "     'country': 'US',\n",
       "     'region': 'CA',\n",
       "     'street_address': '500 Brea Mall',\n",
       "     'postcode': '92821-5763',\n",
       "     'name': 'Nordstrom Ebar Artisan Coffee'},\n",
       "    'derivedStructData': {'can_fetch_raw_content': 'true',\n",
       "     'snippets': [<proto.marshal.collections.maps.MapComposite object at 0x000002131B4D6010>],\n",
       "     'is_exact_match_query': 0.0}},\n",
       "   'rankSignals': {'semanticSimilarityScore': None,\n",
       "    'topicalityRank': None,\n",
       "    'boostingFactor': None,\n",
       "    'defaultRank': None}}],\n",
       " 'totalSize': 91,\n",
       " 'attributionToken': 'iQL0CAEKDAjQoP7FBhCVov-BAhIkNjk1OGU3MTktMDAwMC0yZDMxLThjODUtNzQ3NDQ2M2MwYzlkIgdHRU5FUklDKkiQ97Iwn9a3LY6-nRWc1rct09qJN8XL8xeVksUwu5H6Mb6R-jHg65A3jpHJMMLwnhXUsp0VtreMLePrkDe5qqIytqqiMtDaiTcwAVJ-cHJvamVjdHMvMTY4MDI3MjUxODQ1L2xvY2F0aW9ucy9nbG9iYWwvY29sbGVjdGlvbnMvZGVmYXVsdF9jb2xsZWN0aW9uL2VuZ2luZXMvZ2VvLWludGVudHMtZW5naW5lL3NlcnZpbmdDb25maWdzL2RlZmF1bHRfY29uZmln',\n",
       " 'nextPageToken': 'QWOjBzYzYDN0cDN30SN4MGOtEzMkJTLwADMw0COxcTZ4UTO2QiGCQKkeqLEGYsjJCNCMIBMxIgC',\n",
       " 'summary': {},\n",
       " 'queryExpansionInfo': {}}"
      ]
     },
     "execution_count": 5,
     "metadata": {},
     "output_type": "execute_result"
    }
   ],
   "source": [
    "pager['results']"
   ]
  },
  {
   "cell_type": "code",
   "execution_count": 4,
   "id": "df1f54bb",
   "metadata": {},
   "outputs": [
    {
     "name": "stdout",
     "output_type": "stream",
     "text": [
      "Total results: 91\n",
      "First hit: {'document_name': 'projects/168027251845/locations/global/collections/default_collection/dataStores/poi-locations-ds/branches/0/documents/7d9047e6-2b9b-4c29-a2d4-7e03c6da0cdc', 'id': '7d9047e6-2b9b-4c29-a2d4-7e03c6da0cdc', 'uri': None, 'title': None, 'snippet': None, 'score': None, 'struct_data': {'geometry': 'POINT(-117.1617437 33.5239996)', 'bbox': <proto.marshal.collections.maps.MapComposite object at 0x000001A4D54F74D0>, 'locality': 'Temecula', 'country': 'US', 'category': 'cafe', 'postcode': '92591-6001', 'street_address': '41195 Winchester Rd', 'region': 'CA', 'brand': 'Starbucks', 'name': 'Starbucks'}}\n"
     ]
    }
   ],
   "source": [
    "page = search_once(\n",
    "    project_id=PROJECT,\n",
    "    location=LOCATION_DS,\n",
    "    engine_id=ENGINE_ID,\n",
    "    query=\"starbucks\",\n",
    "    page_size=1,\n",
    "    query_expansion_condition=\"DISABLED\",\n",
    "    spell_correction_mode=\"MODE_UNSPECIFIED\",\n",
    "    language_code=\"en-US\",\n",
    ")\n",
    "\n",
    "print(\"Total results:\", page[\"total_size\"])\n",
    "print(\"First hit:\", page[\"hits\"][0])"
   ]
  },
  {
   "cell_type": "code",
   "execution_count": 5,
   "id": "bc8eff21",
   "metadata": {},
   "outputs": [
    {
     "name": "stdout",
     "output_type": "stream",
     "text": [
      "None\n"
     ]
    }
   ],
   "source": [
    "page = search_once(\n",
    "    project_id=PROJECT,\n",
    "    location=LOCATION_DS,\n",
    "    data_store_id=DS_ID,   # or data_store=DS_ID\n",
    "    query=\"starbucks\",\n",
    "    page_size=20,\n",
    ")\n",
    "print(page[\"hits\"][0].get(\"score\"))  # likely None on GA"
   ]
  },
  {
   "cell_type": "code",
   "execution_count": null,
   "id": "7660e629",
   "metadata": {},
   "outputs": [],
   "source": []
  },
  {
   "cell_type": "code",
   "execution_count": 19,
   "id": "72b96a02",
   "metadata": {},
   "outputs": [
    {
     "name": "stdout",
     "output_type": "stream",
     "text": [
      "None\n",
      "None\n"
     ]
    }
   ],
   "source": [
    "page = search_once(\n",
    "    project_id=PROJECT,\n",
    "    location=LOCATION_DS,\n",
    "    engine_id=ENGINE_ID,\n",
    "    query=\"starbucks\",\n",
    "    page_size=10,\n",
    "    return_scores=True,         # ← will try v1alpha/v1beta\n",
    "    return_model_scores=True   # optional: include raw map\n",
    ")\n",
    "print(page[\"hits\"][0][\"score\"])         # numeric\n",
    "print(page[\"hits\"][0].get(\"model_scores\"))"
   ]
  },
  {
   "cell_type": "code",
   "execution_count": null,
   "id": "dd07f3e9",
   "metadata": {},
   "outputs": [],
   "source": []
  },
  {
   "cell_type": "code",
   "execution_count": null,
   "id": "d953b4cd",
   "metadata": {},
   "outputs": [
    {
     "name": "stdout",
     "output_type": "stream",
     "text": [
      "[{'document_name': 'projects/168027251845/locations/global/collections/default_collection/dataStores/poi-locations-ds/branches/0/documents/7d9047e6-2b9b-4c29-a2d4-7e03c6da0cdc', 'id': '7d9047e6-2b9b-4c29-a2d4-7e03c6da0cdc', 'uri': None, 'title': None, 'struct_data': {'bbox': <proto.marshal.collections.maps.MapComposite object at 0x0000026EAAA566D0>, 'geometry': 'POINT(-117.1617437 33.5239996)', 'locality': 'Temecula', 'category': 'cafe', 'country': 'US', 'region': 'CA', 'street_address': '41195 Winchester Rd', 'postcode': '92591-6001', 'brand': 'Starbucks', 'name': 'Starbucks'}, 'score': None, 'model_scores': None}, {'document_name': 'projects/168027251845/locations/global/collections/default_collection/dataStores/poi-locations-ds/branches/0/documents/d9e55359-5cdd-4639-a9d4-71238246c52b', 'id': 'd9e55359-5cdd-4639-a9d4-71238246c52b', 'uri': None, 'title': None, 'struct_data': {'geometry': 'POINT(-121.83926 38.45817)', 'bbox': <proto.marshal.collections.maps.MapComposite object at 0x0000026EAAA57390>, 'locality': 'Dixon', 'category': 'grocery_store', 'country': 'US', 'region': 'CA', 'street_address': '1258 Stratford Ave', 'postcode': '95620-2023', 'name': 'Dixon Safeway Starbucks 1258'}, 'score': None, 'model_scores': None}, {'document_name': 'projects/168027251845/locations/global/collections/default_collection/dataStores/poi-locations-ds/branches/0/documents/22b7de78-cf2e-4933-a315-244da1a27b4a', 'id': '22b7de78-cf2e-4933-a315-244da1a27b4a', 'uri': None, 'title': None, 'struct_data': {'bbox': <proto.marshal.collections.maps.MapComposite object at 0x0000026EAAA56910>, 'geometry': 'POINT(-122.0456224 37.3207171)', 'locality': 'Cupertino', 'country': 'US', 'category': 'cafe', 'region': 'CA', 'street_address': '21250 Stevens Creek Blvd', 'postcode': '95014-5702', 'name': 'Power Cup Coffee'}, 'score': None, 'model_scores': None}, {'document_name': 'projects/168027251845/locations/global/collections/default_collection/dataStores/poi-locations-ds/branches/0/documents/54551408-85fe-4ecd-bdd2-1dd37b367138', 'id': '54551408-85fe-4ecd-bdd2-1dd37b367138', 'uri': None, 'title': None, 'struct_data': {'bbox': <proto.marshal.collections.maps.MapComposite object at 0x0000026EAAA5C890>, 'geometry': 'POINT(-122.0400736 37.3235938)', 'locality': 'Cupertino', 'category': 'supermarket', 'country': 'US', 'region': 'CA', 'street_address': '20955 Stevens Creek Blvd', 'postcode': '95014', 'name': 'WFM Coffee Bar'}, 'score': None, 'model_scores': None}, {'document_name': 'projects/168027251845/locations/global/collections/default_collection/dataStores/poi-locations-ds/branches/0/documents/f1257e3b-f904-4ef8-9b3c-9c0215cb1c64', 'id': 'f1257e3b-f904-4ef8-9b3c-9c0215cb1c64', 'uri': None, 'title': None, 'struct_data': {'bbox': <proto.marshal.collections.maps.MapComposite object at 0x0000026EAAA5CD90>, 'geometry': 'POINT(-122.452936 37.769522)', 'locality': 'San Francisco', 'category': 'cafe', 'country': 'US', 'postcode': '94117-1863', 'street_address': '690 Stanyan St', 'region': 'CA', 'brand': 'Allegro Coffee Company', 'name': 'Allegro Coffee Company'}, 'score': None, 'model_scores': None}, {'document_name': 'projects/168027251845/locations/global/collections/default_collection/dataStores/poi-locations-ds/branches/0/documents/f9c47889-70b2-44ea-a612-7ce1b3f60930', 'id': 'f9c47889-70b2-44ea-a612-7ce1b3f60930', 'uri': None, 'title': None, 'struct_data': {'geometry': 'POINT(-118.30233 34.061214)', 'bbox': <proto.marshal.collections.maps.MapComposite object at 0x0000026EAAA5D210>, 'locality': 'Los Angeles', 'category': 'cafe', 'country': 'US', 'postcode': '90010', 'street_address': '3550 Wilshire Blvd Ste 1520', 'region': 'CA', 'name': 'Barista Lab'}, 'score': None, 'model_scores': None}, {'document_name': 'projects/168027251845/locations/global/collections/default_collection/dataStores/poi-locations-ds/branches/0/documents/133b01a3-d015-46b3-8ffb-be3aafb72aff', 'id': '133b01a3-d015-46b3-8ffb-be3aafb72aff', 'uri': None, 'title': None, 'struct_data': {'geometry': 'POINT(-118.0523138 34.1353383)', 'bbox': <proto.marshal.collections.maps.MapComposite object at 0x0000026EAAA5D650>, 'locality': 'Arcadia', 'category': 'cafe', 'country': 'US', 'postcode': '91007-1900', 'street_address': '400 S Baldwin Ave', 'region': 'CA', 'name': 'Nordstrom Ebar Artisan Coffee'}, 'score': None, 'model_scores': None}, {'document_name': 'projects/168027251845/locations/global/collections/default_collection/dataStores/poi-locations-ds/branches/0/documents/25c4cfac-938e-406f-9a7a-6aa1c136c568', 'id': '25c4cfac-938e-406f-9a7a-6aa1c136c568', 'uri': None, 'title': None, 'struct_data': {'geometry': 'POINT(-122.0580894 37.8969088)', 'bbox': <proto.marshal.collections.maps.MapComposite object at 0x0000026EAAA5DA50>, 'locality': 'Walnut Creek', 'category': 'american_restaurant', 'country': 'US', 'postcode': '94596-5129', 'street_address': '1200 Broadway Plz', 'region': 'CA', 'name': 'Nordstrom Ebar Artisan Coffee'}, 'score': None, 'model_scores': None}, {'document_name': 'projects/168027251845/locations/global/collections/default_collection/dataStores/poi-locations-ds/branches/0/documents/272138b1-0387-4fe8-810f-77610c38df01', 'id': '272138b1-0387-4fe8-810f-77610c38df01', 'uri': None, 'title': None, 'struct_data': {'geometry': 'POINT(-122.0123143 37.3231287)', 'bbox': <proto.marshal.collections.maps.MapComposite object at 0x0000026EAAA5DE10>, 'locality': 'Cupertino', 'category': 'cafe', 'country': 'US', 'region': 'CA', 'street_address': '19501 Stevens Creek Blvd', 'postcode': '95014-2468', 'name': 'Cafe Lattea'}, 'score': None, 'model_scores': None}, {'document_name': 'projects/168027251845/locations/global/collections/default_collection/dataStores/poi-locations-ds/branches/0/documents/aa6bba66-1894-4e92-8a51-7292f7102842', 'id': 'aa6bba66-1894-4e92-8a51-7292f7102842', 'uri': None, 'title': None, 'struct_data': {'geometry': 'POINT(-117.8881801 33.9158131)', 'bbox': <proto.marshal.collections.maps.MapComposite object at 0x0000026EAAA5E210>, 'locality': 'Brea', 'category': 'cafe', 'country': 'US', 'region': 'CA', 'street_address': '500 Brea Mall', 'postcode': '92821-5763', 'name': 'Nordstrom Ebar Artisan Coffee'}, 'score': None, 'model_scores': None}, {'document_name': 'projects/168027251845/locations/global/collections/default_collection/dataStores/poi-locations-ds/branches/0/documents/fb27f40e-7de3-40f0-88a4-5de23fdd51ee', 'id': 'fb27f40e-7de3-40f0-88a4-5de23fdd51ee', 'uri': None, 'title': None, 'struct_data': {'geometry': 'POINT(-121.9441066 37.3261276)', 'bbox': <proto.marshal.collections.maps.MapComposite object at 0x0000026EAAA5E650>, 'locality': 'Santa Clara', 'country': 'US', 'category': 'cafe', 'postcode': '95050-6337', 'street_address': '2855 Stevens Creek Blvd', 'region': 'CA', 'name': 'Caffe Central'}, 'score': None, 'model_scores': None}, {'document_name': 'projects/168027251845/locations/global/collections/default_collection/dataStores/poi-locations-ds/branches/0/documents/59d64129-f74f-46b5-99cf-9b66a9ff36b5', 'id': '59d64129-f74f-46b5-99cf-9b66a9ff36b5', 'uri': None, 'title': None, 'struct_data': {'geometry': 'POINT(-122.0339932 37.3254589)', 'bbox': <proto.marshal.collections.maps.MapComposite object at 0x0000026EAAA5EA90>, 'locality': 'Cupertino', 'country': 'US', 'category': 'cafe', 'postcode': '95014-2215', 'street_address': '20625 Alves Dr', 'region': 'CA', 'name': 'Caffè Macs'}, 'score': None, 'model_scores': None}, {'document_name': 'projects/168027251845/locations/global/collections/default_collection/dataStores/poi-locations-ds/branches/0/documents/314d0bd6-92fb-49e9-8041-0d990ba3323f', 'id': '314d0bd6-92fb-49e9-8041-0d990ba3323f', 'uri': None, 'title': None, 'struct_data': {'bbox': <proto.marshal.collections.maps.MapComposite object at 0x0000026EAAA5EED0>, 'geometry': 'POINT(-122.4775032 37.7269599)', 'locality': 'San Francisco', 'category': 'cafe', 'country': 'US', 'postcode': '94132', 'street_address': '285 Winston Dr', 'region': 'CA', 'name': 'Nordstrom'}, 'score': None, 'model_scores': None}, {'document_name': 'projects/168027251845/locations/global/collections/default_collection/dataStores/poi-locations-ds/branches/0/documents/e68ba7ce-1e6b-4f14-8b66-f8f416010676', 'id': 'e68ba7ce-1e6b-4f14-8b66-f8f416010676', 'uri': None, 'title': None, 'struct_data': {'bbox': <proto.marshal.collections.maps.MapComposite object at 0x0000026EAAA5F410>, 'geometry': 'POINT(-120.4338117 37.2751034)', 'locality': 'Merced', 'category': 'convenience_store', 'country': 'US', 'region': 'CA', 'street_address': '809 S Coffee St', 'postcode': '95341-9524', 'brand': 'Street Corner', 'name': 'Street Corner'}, 'score': None, 'model_scores': None}, {'document_name': 'projects/168027251845/locations/global/collections/default_collection/dataStores/poi-locations-ds/branches/0/documents/bfc7ae07-df65-49a9-b476-bc44c988092d', 'id': 'bfc7ae07-df65-49a9-b476-bc44c988092d', 'uri': None, 'title': None, 'struct_data': {'bbox': <proto.marshal.collections.maps.MapComposite object at 0x0000026EAAA5F810>, 'geometry': 'POINT(-117.6116364 33.8900167)', 'locality': 'Corona', 'country': 'US', 'category': 'cafe', 'region': 'CA', 'street_address': '375 Klug Cir', 'postcode': '92878-5408', 'name': 'Cappuccine Inc.'}, 'score': None, 'model_scores': None}, {'document_name': 'projects/168027251845/locations/global/collections/default_collection/dataStores/poi-locations-ds/branches/0/documents/474938a2-3d1a-4b86-8940-1897768de402', 'id': '474938a2-3d1a-4b86-8940-1897768de402', 'uri': None, 'title': None, 'struct_data': {'bbox': <proto.marshal.collections.maps.MapComposite object at 0x0000026EAAA5FCD0>, 'geometry': 'POINT(-121.1791432 38.6864877)', 'locality': 'Folsom', 'category': 'cafe', 'country': 'US', 'postcode': '95630-2146', 'street_address': '6610 Folsom Auburn Rd', 'region': 'CA', 'brand': 'Coffee Republic', 'name': 'Coffee Republic'}, 'score': None, 'model_scores': None}, {'document_name': 'projects/168027251845/locations/global/collections/default_collection/dataStores/poi-locations-ds/branches/0/documents/b478fa42-4d1c-4d49-9db5-e2090adf1733', 'id': 'b478fa42-4d1c-4d49-9db5-e2090adf1733', 'uri': None, 'title': None, 'struct_data': {'geometry': 'POINT(-117.8895878 33.6922992)', 'bbox': <proto.marshal.collections.maps.MapComposite object at 0x0000026EAAA68190>, 'locality': 'Costa Mesa', 'country': 'US', 'category': 'cafe', 'postcode': '92626-1801', 'street_address': '3333 Bristol St', 'region': 'CA', 'name': 'Nordstrom Ebar Artisan Coffee'}, 'score': None, 'model_scores': None}, {'document_name': 'projects/168027251845/locations/global/collections/default_collection/dataStores/poi-locations-ds/branches/0/documents/b4d08e21-a328-4805-9eb4-798b3811d3b1', 'id': 'b4d08e21-a328-4805-9eb4-798b3811d3b1', 'uri': None, 'title': None, 'struct_data': {'geometry': 'POINT(-117.8775442 33.6158716)', 'bbox': <proto.marshal.collections.maps.MapComposite object at 0x0000026EAAA685D0>, 'locality': 'Newport Beach', 'country': 'US', 'category': 'cafe', 'postcode': '92660-6903', 'street_address': '901 Newport Center Dr', 'region': 'CA', 'name': 'Nordstrom Ebar Artisan Coffee'}, 'score': None, 'model_scores': None}, {'document_name': 'projects/168027251845/locations/global/collections/default_collection/dataStores/poi-locations-ds/branches/0/documents/4113b4c8-a388-468a-ab2f-4d79c88f2401', 'id': '4113b4c8-a388-468a-ab2f-4d79c88f2401', 'uri': None, 'title': None, 'struct_data': {'bbox': <proto.marshal.collections.maps.MapComposite object at 0x0000026EAAA689D0>, 'geometry': 'POINT(-121.3587883 38.3747735)', 'locality': 'Elk Grove', 'country': 'US', 'category': 'cafe', 'region': 'CA', 'street_address': '10535 E Stockton Blvd', 'postcode': '95624-9753', 'name': 'Caffeine and Kilos'}, 'score': None, 'model_scores': None}, {'document_name': 'projects/168027251845/locations/global/collections/default_collection/dataStores/poi-locations-ds/branches/0/documents/f8fc1090-6500-4d84-8365-8e46fec08fbd', 'id': 'f8fc1090-6500-4d84-8365-8e46fec08fbd', 'uri': None, 'title': None, 'struct_data': {'geometry': 'POINT(-121.91518 37.41698)', 'bbox': <proto.marshal.collections.maps.MapComposite object at 0x0000026EAAA68DD0>, 'locality': 'Milpitas', 'country': 'US', 'category': 'bubble_tea', 'postcode': '95035', 'street_address': '528 Barber Ln', 'region': 'CA', 'name': 'Fantasia Coffee & Tea'}, 'score': None, 'model_scores': None}]\n"
     ]
    }
   ],
   "source": [
    "page = search_once(\n",
    "    project_id=PROJECT,\n",
    "    location=LOCATION_DS,\n",
    "    engine_id=ENGINE_ID,\n",
    "    query=\"staubucks\",\n",
    "    filter='region: ANY(\"CA\")',\n",
    "    order_by=\"name\",\n",
    "    facet_specs=[(\"brand\", 8), (\"category\", 10)],\n",
    "    page_size=20,\n",
    "        query_expansion_condition=\"AUTO\",\n",
    "    spell_correction_mode=\"AUTO\",\n",
    ")\n",
    "for f_key, vals in page[\"facets\"].items():\n",
    "    print(f_key, vals)\n",
    "print(page[\"hits\"])\n"
   ]
  }
 ],
 "metadata": {
  "kernelspec": {
   "display_name": "Python 3",
   "language": "python",
   "name": "python3"
  },
  "language_info": {
   "codemirror_mode": {
    "name": "ipython",
    "version": 3
   },
   "file_extension": ".py",
   "mimetype": "text/x-python",
   "name": "python",
   "nbconvert_exporter": "python",
   "pygments_lexer": "ipython3",
   "version": "3.11.9"
  }
 },
 "nbformat": 4,
 "nbformat_minor": 5
}
